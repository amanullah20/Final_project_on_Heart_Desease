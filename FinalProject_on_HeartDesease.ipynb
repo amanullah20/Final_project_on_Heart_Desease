{
 "cells": [
  {
   "cell_type": "markdown",
   "id": "90a3fbb9",
   "metadata": {},
   "source": [
    "# Importing Libraries"
   ]
  },
  {
   "cell_type": "code",
   "execution_count": 1,
   "id": "967ee41d",
   "metadata": {},
   "outputs": [],
   "source": [
    "import pandas as pd\n",
    "import numpy as np\n",
    "import matplotlib.pyplot as plt\n",
    "%matplotlib inline\n",
    "import seaborn as sns\n",
    "from sklearn.preprocessing import LabelEncoder,OneHotEncoder,OrdinalEncoder\n",
    "from pandas.core.dtypes.common import is_numeric_dtype\n",
    "import warnings as wr\n",
    "wr.filterwarnings('ignore')"
   ]
  },
  {
   "cell_type": "markdown",
   "id": "f2f4484b",
   "metadata": {},
   "source": [
    "# Loading Data"
   ]
  },
  {
   "cell_type": "code",
   "execution_count": 2,
   "id": "c8940b15",
   "metadata": {},
   "outputs": [],
   "source": [
    "df= pd.read_csv('Heart Disease - Heart Disease.csv')"
   ]
  },
  {
   "cell_type": "code",
   "execution_count": 3,
   "id": "1803aa60",
   "metadata": {},
   "outputs": [],
   "source": [
    "df1= df.copy()\n",
    "df2= df.copy()\n",
    "df3= df.copy()\n",
    "df4= df.copy()\n",
    "df5= df.copy()"
   ]
  },
  {
   "cell_type": "markdown",
   "id": "aa76939d",
   "metadata": {},
   "source": [
    "# Data Cheking"
   ]
  },
  {
   "cell_type": "code",
   "execution_count": 4,
   "id": "754e27c5",
   "metadata": {},
   "outputs": [
    {
     "data": {
      "text/html": [
       "<div>\n",
       "<style scoped>\n",
       "    .dataframe tbody tr th:only-of-type {\n",
       "        vertical-align: middle;\n",
       "    }\n",
       "\n",
       "    .dataframe tbody tr th {\n",
       "        vertical-align: top;\n",
       "    }\n",
       "\n",
       "    .dataframe thead th {\n",
       "        text-align: right;\n",
       "    }\n",
       "</style>\n",
       "<table border=\"1\" class=\"dataframe\">\n",
       "  <thead>\n",
       "    <tr style=\"text-align: right;\">\n",
       "      <th></th>\n",
       "      <th>HeartDisease</th>\n",
       "      <th>BMI</th>\n",
       "      <th>Smoking</th>\n",
       "      <th>AlcoholDrinking</th>\n",
       "      <th>Stroke</th>\n",
       "      <th>PhysicalHealth</th>\n",
       "      <th>MentalHealth</th>\n",
       "      <th>DiffWalking</th>\n",
       "      <th>Sex</th>\n",
       "      <th>AgeCategory</th>\n",
       "      <th>Race</th>\n",
       "      <th>Diabetic</th>\n",
       "      <th>PhysicalActivity</th>\n",
       "      <th>GenHealth</th>\n",
       "      <th>SleepTime</th>\n",
       "      <th>Asthma</th>\n",
       "      <th>KidneyDisease</th>\n",
       "      <th>SkinCancer</th>\n",
       "    </tr>\n",
       "  </thead>\n",
       "  <tbody>\n",
       "    <tr>\n",
       "      <th>0</th>\n",
       "      <td>No</td>\n",
       "      <td>16.60</td>\n",
       "      <td>Yes</td>\n",
       "      <td>No</td>\n",
       "      <td>No</td>\n",
       "      <td>3</td>\n",
       "      <td>30</td>\n",
       "      <td>No</td>\n",
       "      <td>Female</td>\n",
       "      <td>55-59</td>\n",
       "      <td>White</td>\n",
       "      <td>Yes</td>\n",
       "      <td>Yes</td>\n",
       "      <td>Very good</td>\n",
       "      <td>5</td>\n",
       "      <td>Yes</td>\n",
       "      <td>No</td>\n",
       "      <td>Yes</td>\n",
       "    </tr>\n",
       "    <tr>\n",
       "      <th>1</th>\n",
       "      <td>No</td>\n",
       "      <td>20.34</td>\n",
       "      <td>No</td>\n",
       "      <td>No</td>\n",
       "      <td>Yes</td>\n",
       "      <td>0</td>\n",
       "      <td>0</td>\n",
       "      <td>No</td>\n",
       "      <td>Female</td>\n",
       "      <td>80 or older</td>\n",
       "      <td>White</td>\n",
       "      <td>No</td>\n",
       "      <td>Yes</td>\n",
       "      <td>Very good</td>\n",
       "      <td>7</td>\n",
       "      <td>No</td>\n",
       "      <td>No</td>\n",
       "      <td>No</td>\n",
       "    </tr>\n",
       "    <tr>\n",
       "      <th>2</th>\n",
       "      <td>No</td>\n",
       "      <td>26.58</td>\n",
       "      <td>Yes</td>\n",
       "      <td>No</td>\n",
       "      <td>No</td>\n",
       "      <td>20</td>\n",
       "      <td>30</td>\n",
       "      <td>No</td>\n",
       "      <td>Male</td>\n",
       "      <td>65-69</td>\n",
       "      <td>White</td>\n",
       "      <td>Yes</td>\n",
       "      <td>Yes</td>\n",
       "      <td>Fair</td>\n",
       "      <td>8</td>\n",
       "      <td>Yes</td>\n",
       "      <td>No</td>\n",
       "      <td>No</td>\n",
       "    </tr>\n",
       "    <tr>\n",
       "      <th>3</th>\n",
       "      <td>No</td>\n",
       "      <td>24.21</td>\n",
       "      <td>No</td>\n",
       "      <td>No</td>\n",
       "      <td>No</td>\n",
       "      <td>0</td>\n",
       "      <td>0</td>\n",
       "      <td>No</td>\n",
       "      <td>Female</td>\n",
       "      <td>75-79</td>\n",
       "      <td>White</td>\n",
       "      <td>No</td>\n",
       "      <td>No</td>\n",
       "      <td>Good</td>\n",
       "      <td>6</td>\n",
       "      <td>No</td>\n",
       "      <td>No</td>\n",
       "      <td>Yes</td>\n",
       "    </tr>\n",
       "    <tr>\n",
       "      <th>4</th>\n",
       "      <td>No</td>\n",
       "      <td>23.71</td>\n",
       "      <td>No</td>\n",
       "      <td>No</td>\n",
       "      <td>No</td>\n",
       "      <td>28</td>\n",
       "      <td>0</td>\n",
       "      <td>Yes</td>\n",
       "      <td>Female</td>\n",
       "      <td>40-44</td>\n",
       "      <td>White</td>\n",
       "      <td>No</td>\n",
       "      <td>Yes</td>\n",
       "      <td>Very good</td>\n",
       "      <td>8</td>\n",
       "      <td>No</td>\n",
       "      <td>No</td>\n",
       "      <td>No</td>\n",
       "    </tr>\n",
       "  </tbody>\n",
       "</table>\n",
       "</div>"
      ],
      "text/plain": [
       "  HeartDisease    BMI Smoking AlcoholDrinking Stroke  PhysicalHealth  \\\n",
       "0           No  16.60     Yes              No     No               3   \n",
       "1           No  20.34      No              No    Yes               0   \n",
       "2           No  26.58     Yes              No     No              20   \n",
       "3           No  24.21      No              No     No               0   \n",
       "4           No  23.71      No              No     No              28   \n",
       "\n",
       "   MentalHealth DiffWalking     Sex  AgeCategory   Race Diabetic  \\\n",
       "0            30          No  Female        55-59  White      Yes   \n",
       "1             0          No  Female  80 or older  White       No   \n",
       "2            30          No    Male        65-69  White      Yes   \n",
       "3             0          No  Female        75-79  White       No   \n",
       "4             0         Yes  Female        40-44  White       No   \n",
       "\n",
       "  PhysicalActivity  GenHealth  SleepTime Asthma KidneyDisease SkinCancer  \n",
       "0              Yes  Very good          5    Yes            No        Yes  \n",
       "1              Yes  Very good          7     No            No         No  \n",
       "2              Yes       Fair          8    Yes            No         No  \n",
       "3               No       Good          6     No            No        Yes  \n",
       "4              Yes  Very good          8     No            No         No  "
      ]
     },
     "execution_count": 4,
     "metadata": {},
     "output_type": "execute_result"
    }
   ],
   "source": [
    "df.head()"
   ]
  },
  {
   "cell_type": "code",
   "execution_count": 5,
   "id": "2d541df5",
   "metadata": {},
   "outputs": [
    {
     "name": "stdout",
     "output_type": "stream",
     "text": [
      "<class 'pandas.core.frame.DataFrame'>\n",
      "RangeIndex: 319795 entries, 0 to 319794\n",
      "Data columns (total 18 columns):\n",
      " #   Column            Non-Null Count   Dtype  \n",
      "---  ------            --------------   -----  \n",
      " 0   HeartDisease      319795 non-null  object \n",
      " 1   BMI               319795 non-null  float64\n",
      " 2   Smoking           319795 non-null  object \n",
      " 3   AlcoholDrinking   319795 non-null  object \n",
      " 4   Stroke            319795 non-null  object \n",
      " 5   PhysicalHealth    319795 non-null  int64  \n",
      " 6   MentalHealth      319795 non-null  int64  \n",
      " 7   DiffWalking       319795 non-null  object \n",
      " 8   Sex               319795 non-null  object \n",
      " 9   AgeCategory       319795 non-null  object \n",
      " 10  Race              319795 non-null  object \n",
      " 11  Diabetic          319795 non-null  object \n",
      " 12  PhysicalActivity  319795 non-null  object \n",
      " 13  GenHealth         319795 non-null  object \n",
      " 14  SleepTime         319795 non-null  int64  \n",
      " 15  Asthma            319795 non-null  object \n",
      " 16  KidneyDisease     319795 non-null  object \n",
      " 17  SkinCancer        319795 non-null  object \n",
      "dtypes: float64(1), int64(3), object(14)\n",
      "memory usage: 43.9+ MB\n"
     ]
    }
   ],
   "source": [
    "df.info()"
   ]
  },
  {
   "cell_type": "code",
   "execution_count": 6,
   "id": "f739b342",
   "metadata": {},
   "outputs": [
    {
     "data": {
      "text/plain": [
       "HeartDisease        0\n",
       "BMI                 0\n",
       "Smoking             0\n",
       "AlcoholDrinking     0\n",
       "Stroke              0\n",
       "PhysicalHealth      0\n",
       "MentalHealth        0\n",
       "DiffWalking         0\n",
       "Sex                 0\n",
       "AgeCategory         0\n",
       "Race                0\n",
       "Diabetic            0\n",
       "PhysicalActivity    0\n",
       "GenHealth           0\n",
       "SleepTime           0\n",
       "Asthma              0\n",
       "KidneyDisease       0\n",
       "SkinCancer          0\n",
       "dtype: int64"
      ]
     },
     "execution_count": 6,
     "metadata": {},
     "output_type": "execute_result"
    }
   ],
   "source": [
    "df.isnull().sum()"
   ]
  },
  {
   "cell_type": "code",
   "execution_count": 7,
   "id": "240f7c0e",
   "metadata": {},
   "outputs": [
    {
     "data": {
      "text/plain": [
       "HeartDisease           2\n",
       "BMI                 3604\n",
       "Smoking                2\n",
       "AlcoholDrinking        2\n",
       "Stroke                 2\n",
       "PhysicalHealth        31\n",
       "MentalHealth          31\n",
       "DiffWalking            2\n",
       "Sex                    2\n",
       "AgeCategory           13\n",
       "Race                   6\n",
       "Diabetic               4\n",
       "PhysicalActivity       2\n",
       "GenHealth              5\n",
       "SleepTime             24\n",
       "Asthma                 2\n",
       "KidneyDisease          2\n",
       "SkinCancer             2\n",
       "dtype: int64"
      ]
     },
     "execution_count": 7,
     "metadata": {},
     "output_type": "execute_result"
    }
   ],
   "source": [
    "df.nunique()"
   ]
  },
  {
   "cell_type": "markdown",
   "id": "42892bc6",
   "metadata": {},
   "source": [
    "# Data preprocessing"
   ]
  },
  {
   "cell_type": "code",
   "execution_count": 8,
   "id": "6770de33",
   "metadata": {},
   "outputs": [],
   "source": [
    "colums = []\n",
    "for col in df.columns:\n",
    "    colums.append(col)"
   ]
  },
  {
   "cell_type": "code",
   "execution_count": 9,
   "id": "d7de4946",
   "metadata": {},
   "outputs": [
    {
     "data": {
      "text/plain": [
       "['HeartDisease',\n",
       " 'BMI',\n",
       " 'Smoking',\n",
       " 'AlcoholDrinking',\n",
       " 'Stroke',\n",
       " 'PhysicalHealth',\n",
       " 'MentalHealth',\n",
       " 'DiffWalking',\n",
       " 'Sex',\n",
       " 'AgeCategory',\n",
       " 'Race',\n",
       " 'Diabetic',\n",
       " 'PhysicalActivity',\n",
       " 'GenHealth',\n",
       " 'SleepTime',\n",
       " 'Asthma',\n",
       " 'KidneyDisease',\n",
       " 'SkinCancer']"
      ]
     },
     "execution_count": 9,
     "metadata": {},
     "output_type": "execute_result"
    }
   ],
   "source": [
    "colums"
   ]
  },
  {
   "cell_type": "code",
   "execution_count": 10,
   "id": "c5d5b225",
   "metadata": {},
   "outputs": [],
   "source": [
    "dummy=  pd.get_dummies(df,columns=['Race','GenHealth','Diabetic'])"
   ]
  },
  {
   "cell_type": "code",
   "execution_count": 11,
   "id": "3dd0b722",
   "metadata": {},
   "outputs": [
    {
     "data": {
      "text/html": [
       "<div>\n",
       "<style scoped>\n",
       "    .dataframe tbody tr th:only-of-type {\n",
       "        vertical-align: middle;\n",
       "    }\n",
       "\n",
       "    .dataframe tbody tr th {\n",
       "        vertical-align: top;\n",
       "    }\n",
       "\n",
       "    .dataframe thead th {\n",
       "        text-align: right;\n",
       "    }\n",
       "</style>\n",
       "<table border=\"1\" class=\"dataframe\">\n",
       "  <thead>\n",
       "    <tr style=\"text-align: right;\">\n",
       "      <th></th>\n",
       "      <th>HeartDisease</th>\n",
       "      <th>BMI</th>\n",
       "      <th>Smoking</th>\n",
       "      <th>AlcoholDrinking</th>\n",
       "      <th>Stroke</th>\n",
       "      <th>PhysicalHealth</th>\n",
       "      <th>MentalHealth</th>\n",
       "      <th>DiffWalking</th>\n",
       "      <th>Sex</th>\n",
       "      <th>AgeCategory</th>\n",
       "      <th>...</th>\n",
       "      <th>Race_White</th>\n",
       "      <th>GenHealth_Excellent</th>\n",
       "      <th>GenHealth_Fair</th>\n",
       "      <th>GenHealth_Good</th>\n",
       "      <th>GenHealth_Poor</th>\n",
       "      <th>GenHealth_Very good</th>\n",
       "      <th>Diabetic_No</th>\n",
       "      <th>Diabetic_No, borderline diabetes</th>\n",
       "      <th>Diabetic_Yes</th>\n",
       "      <th>Diabetic_Yes (during pregnancy)</th>\n",
       "    </tr>\n",
       "  </thead>\n",
       "  <tbody>\n",
       "    <tr>\n",
       "      <th>0</th>\n",
       "      <td>No</td>\n",
       "      <td>16.60</td>\n",
       "      <td>Yes</td>\n",
       "      <td>No</td>\n",
       "      <td>No</td>\n",
       "      <td>3</td>\n",
       "      <td>30</td>\n",
       "      <td>No</td>\n",
       "      <td>Female</td>\n",
       "      <td>55-59</td>\n",
       "      <td>...</td>\n",
       "      <td>1</td>\n",
       "      <td>0</td>\n",
       "      <td>0</td>\n",
       "      <td>0</td>\n",
       "      <td>0</td>\n",
       "      <td>1</td>\n",
       "      <td>0</td>\n",
       "      <td>0</td>\n",
       "      <td>1</td>\n",
       "      <td>0</td>\n",
       "    </tr>\n",
       "    <tr>\n",
       "      <th>1</th>\n",
       "      <td>No</td>\n",
       "      <td>20.34</td>\n",
       "      <td>No</td>\n",
       "      <td>No</td>\n",
       "      <td>Yes</td>\n",
       "      <td>0</td>\n",
       "      <td>0</td>\n",
       "      <td>No</td>\n",
       "      <td>Female</td>\n",
       "      <td>80 or older</td>\n",
       "      <td>...</td>\n",
       "      <td>1</td>\n",
       "      <td>0</td>\n",
       "      <td>0</td>\n",
       "      <td>0</td>\n",
       "      <td>0</td>\n",
       "      <td>1</td>\n",
       "      <td>1</td>\n",
       "      <td>0</td>\n",
       "      <td>0</td>\n",
       "      <td>0</td>\n",
       "    </tr>\n",
       "    <tr>\n",
       "      <th>2</th>\n",
       "      <td>No</td>\n",
       "      <td>26.58</td>\n",
       "      <td>Yes</td>\n",
       "      <td>No</td>\n",
       "      <td>No</td>\n",
       "      <td>20</td>\n",
       "      <td>30</td>\n",
       "      <td>No</td>\n",
       "      <td>Male</td>\n",
       "      <td>65-69</td>\n",
       "      <td>...</td>\n",
       "      <td>1</td>\n",
       "      <td>0</td>\n",
       "      <td>1</td>\n",
       "      <td>0</td>\n",
       "      <td>0</td>\n",
       "      <td>0</td>\n",
       "      <td>0</td>\n",
       "      <td>0</td>\n",
       "      <td>1</td>\n",
       "      <td>0</td>\n",
       "    </tr>\n",
       "    <tr>\n",
       "      <th>3</th>\n",
       "      <td>No</td>\n",
       "      <td>24.21</td>\n",
       "      <td>No</td>\n",
       "      <td>No</td>\n",
       "      <td>No</td>\n",
       "      <td>0</td>\n",
       "      <td>0</td>\n",
       "      <td>No</td>\n",
       "      <td>Female</td>\n",
       "      <td>75-79</td>\n",
       "      <td>...</td>\n",
       "      <td>1</td>\n",
       "      <td>0</td>\n",
       "      <td>0</td>\n",
       "      <td>1</td>\n",
       "      <td>0</td>\n",
       "      <td>0</td>\n",
       "      <td>1</td>\n",
       "      <td>0</td>\n",
       "      <td>0</td>\n",
       "      <td>0</td>\n",
       "    </tr>\n",
       "    <tr>\n",
       "      <th>4</th>\n",
       "      <td>No</td>\n",
       "      <td>23.71</td>\n",
       "      <td>No</td>\n",
       "      <td>No</td>\n",
       "      <td>No</td>\n",
       "      <td>28</td>\n",
       "      <td>0</td>\n",
       "      <td>Yes</td>\n",
       "      <td>Female</td>\n",
       "      <td>40-44</td>\n",
       "      <td>...</td>\n",
       "      <td>1</td>\n",
       "      <td>0</td>\n",
       "      <td>0</td>\n",
       "      <td>0</td>\n",
       "      <td>0</td>\n",
       "      <td>1</td>\n",
       "      <td>1</td>\n",
       "      <td>0</td>\n",
       "      <td>0</td>\n",
       "      <td>0</td>\n",
       "    </tr>\n",
       "  </tbody>\n",
       "</table>\n",
       "<p>5 rows × 30 columns</p>\n",
       "</div>"
      ],
      "text/plain": [
       "  HeartDisease    BMI Smoking AlcoholDrinking Stroke  PhysicalHealth  \\\n",
       "0           No  16.60     Yes              No     No               3   \n",
       "1           No  20.34      No              No    Yes               0   \n",
       "2           No  26.58     Yes              No     No              20   \n",
       "3           No  24.21      No              No     No               0   \n",
       "4           No  23.71      No              No     No              28   \n",
       "\n",
       "   MentalHealth DiffWalking     Sex  AgeCategory  ... Race_White  \\\n",
       "0            30          No  Female        55-59  ...          1   \n",
       "1             0          No  Female  80 or older  ...          1   \n",
       "2            30          No    Male        65-69  ...          1   \n",
       "3             0          No  Female        75-79  ...          1   \n",
       "4             0         Yes  Female        40-44  ...          1   \n",
       "\n",
       "   GenHealth_Excellent GenHealth_Fair GenHealth_Good GenHealth_Poor  \\\n",
       "0                    0              0              0              0   \n",
       "1                    0              0              0              0   \n",
       "2                    0              1              0              0   \n",
       "3                    0              0              1              0   \n",
       "4                    0              0              0              0   \n",
       "\n",
       "   GenHealth_Very good  Diabetic_No  Diabetic_No, borderline diabetes  \\\n",
       "0                    1            0                                 0   \n",
       "1                    1            1                                 0   \n",
       "2                    0            0                                 0   \n",
       "3                    0            1                                 0   \n",
       "4                    1            1                                 0   \n",
       "\n",
       "   Diabetic_Yes  Diabetic_Yes (during pregnancy)  \n",
       "0             1                                0  \n",
       "1             0                                0  \n",
       "2             1                                0  \n",
       "3             0                                0  \n",
       "4             0                                0  \n",
       "\n",
       "[5 rows x 30 columns]"
      ]
     },
     "execution_count": 11,
     "metadata": {},
     "output_type": "execute_result"
    }
   ],
   "source": [
    "dummy.head()"
   ]
  },
  {
   "cell_type": "code",
   "execution_count": 12,
   "id": "cecf88cf",
   "metadata": {},
   "outputs": [
    {
     "data": {
      "text/plain": [
       "Index(['HeartDisease', 'BMI', 'Smoking', 'AlcoholDrinking', 'Stroke',\n",
       "       'PhysicalHealth', 'MentalHealth', 'DiffWalking', 'Sex', 'AgeCategory',\n",
       "       'PhysicalActivity', 'SleepTime', 'Asthma', 'KidneyDisease',\n",
       "       'SkinCancer', 'Race_American Indian/Alaskan Native', 'Race_Asian',\n",
       "       'Race_Black', 'Race_Hispanic', 'Race_Other', 'Race_White',\n",
       "       'GenHealth_Excellent', 'GenHealth_Fair', 'GenHealth_Good',\n",
       "       'GenHealth_Poor', 'GenHealth_Very good', 'Diabetic_No',\n",
       "       'Diabetic_No, borderline diabetes', 'Diabetic_Yes',\n",
       "       'Diabetic_Yes (during pregnancy)'],\n",
       "      dtype='object')"
      ]
     },
     "execution_count": 12,
     "metadata": {},
     "output_type": "execute_result"
    }
   ],
   "source": [
    "dummy.columns"
   ]
  },
  {
   "cell_type": "code",
   "execution_count": 13,
   "id": "43242f8d",
   "metadata": {},
   "outputs": [],
   "source": [
    "dummy = dummy.drop(['AgeCategory'],axis=1)"
   ]
  },
  {
   "cell_type": "code",
   "execution_count": 14,
   "id": "5ec51a1e",
   "metadata": {},
   "outputs": [
    {
     "data": {
      "text/html": [
       "<div>\n",
       "<style scoped>\n",
       "    .dataframe tbody tr th:only-of-type {\n",
       "        vertical-align: middle;\n",
       "    }\n",
       "\n",
       "    .dataframe tbody tr th {\n",
       "        vertical-align: top;\n",
       "    }\n",
       "\n",
       "    .dataframe thead th {\n",
       "        text-align: right;\n",
       "    }\n",
       "</style>\n",
       "<table border=\"1\" class=\"dataframe\">\n",
       "  <thead>\n",
       "    <tr style=\"text-align: right;\">\n",
       "      <th></th>\n",
       "      <th>HeartDisease</th>\n",
       "      <th>BMI</th>\n",
       "      <th>Smoking</th>\n",
       "      <th>AlcoholDrinking</th>\n",
       "      <th>Stroke</th>\n",
       "      <th>PhysicalHealth</th>\n",
       "      <th>MentalHealth</th>\n",
       "      <th>DiffWalking</th>\n",
       "      <th>Sex</th>\n",
       "      <th>PhysicalActivity</th>\n",
       "      <th>...</th>\n",
       "      <th>Race_White</th>\n",
       "      <th>GenHealth_Excellent</th>\n",
       "      <th>GenHealth_Fair</th>\n",
       "      <th>GenHealth_Good</th>\n",
       "      <th>GenHealth_Poor</th>\n",
       "      <th>GenHealth_Very good</th>\n",
       "      <th>Diabetic_No</th>\n",
       "      <th>Diabetic_No, borderline diabetes</th>\n",
       "      <th>Diabetic_Yes</th>\n",
       "      <th>Diabetic_Yes (during pregnancy)</th>\n",
       "    </tr>\n",
       "  </thead>\n",
       "  <tbody>\n",
       "    <tr>\n",
       "      <th>0</th>\n",
       "      <td>No</td>\n",
       "      <td>16.60</td>\n",
       "      <td>Yes</td>\n",
       "      <td>No</td>\n",
       "      <td>No</td>\n",
       "      <td>3</td>\n",
       "      <td>30</td>\n",
       "      <td>No</td>\n",
       "      <td>Female</td>\n",
       "      <td>Yes</td>\n",
       "      <td>...</td>\n",
       "      <td>1</td>\n",
       "      <td>0</td>\n",
       "      <td>0</td>\n",
       "      <td>0</td>\n",
       "      <td>0</td>\n",
       "      <td>1</td>\n",
       "      <td>0</td>\n",
       "      <td>0</td>\n",
       "      <td>1</td>\n",
       "      <td>0</td>\n",
       "    </tr>\n",
       "    <tr>\n",
       "      <th>1</th>\n",
       "      <td>No</td>\n",
       "      <td>20.34</td>\n",
       "      <td>No</td>\n",
       "      <td>No</td>\n",
       "      <td>Yes</td>\n",
       "      <td>0</td>\n",
       "      <td>0</td>\n",
       "      <td>No</td>\n",
       "      <td>Female</td>\n",
       "      <td>Yes</td>\n",
       "      <td>...</td>\n",
       "      <td>1</td>\n",
       "      <td>0</td>\n",
       "      <td>0</td>\n",
       "      <td>0</td>\n",
       "      <td>0</td>\n",
       "      <td>1</td>\n",
       "      <td>1</td>\n",
       "      <td>0</td>\n",
       "      <td>0</td>\n",
       "      <td>0</td>\n",
       "    </tr>\n",
       "    <tr>\n",
       "      <th>2</th>\n",
       "      <td>No</td>\n",
       "      <td>26.58</td>\n",
       "      <td>Yes</td>\n",
       "      <td>No</td>\n",
       "      <td>No</td>\n",
       "      <td>20</td>\n",
       "      <td>30</td>\n",
       "      <td>No</td>\n",
       "      <td>Male</td>\n",
       "      <td>Yes</td>\n",
       "      <td>...</td>\n",
       "      <td>1</td>\n",
       "      <td>0</td>\n",
       "      <td>1</td>\n",
       "      <td>0</td>\n",
       "      <td>0</td>\n",
       "      <td>0</td>\n",
       "      <td>0</td>\n",
       "      <td>0</td>\n",
       "      <td>1</td>\n",
       "      <td>0</td>\n",
       "    </tr>\n",
       "    <tr>\n",
       "      <th>3</th>\n",
       "      <td>No</td>\n",
       "      <td>24.21</td>\n",
       "      <td>No</td>\n",
       "      <td>No</td>\n",
       "      <td>No</td>\n",
       "      <td>0</td>\n",
       "      <td>0</td>\n",
       "      <td>No</td>\n",
       "      <td>Female</td>\n",
       "      <td>No</td>\n",
       "      <td>...</td>\n",
       "      <td>1</td>\n",
       "      <td>0</td>\n",
       "      <td>0</td>\n",
       "      <td>1</td>\n",
       "      <td>0</td>\n",
       "      <td>0</td>\n",
       "      <td>1</td>\n",
       "      <td>0</td>\n",
       "      <td>0</td>\n",
       "      <td>0</td>\n",
       "    </tr>\n",
       "    <tr>\n",
       "      <th>4</th>\n",
       "      <td>No</td>\n",
       "      <td>23.71</td>\n",
       "      <td>No</td>\n",
       "      <td>No</td>\n",
       "      <td>No</td>\n",
       "      <td>28</td>\n",
       "      <td>0</td>\n",
       "      <td>Yes</td>\n",
       "      <td>Female</td>\n",
       "      <td>Yes</td>\n",
       "      <td>...</td>\n",
       "      <td>1</td>\n",
       "      <td>0</td>\n",
       "      <td>0</td>\n",
       "      <td>0</td>\n",
       "      <td>0</td>\n",
       "      <td>1</td>\n",
       "      <td>1</td>\n",
       "      <td>0</td>\n",
       "      <td>0</td>\n",
       "      <td>0</td>\n",
       "    </tr>\n",
       "  </tbody>\n",
       "</table>\n",
       "<p>5 rows × 29 columns</p>\n",
       "</div>"
      ],
      "text/plain": [
       "  HeartDisease    BMI Smoking AlcoholDrinking Stroke  PhysicalHealth  \\\n",
       "0           No  16.60     Yes              No     No               3   \n",
       "1           No  20.34      No              No    Yes               0   \n",
       "2           No  26.58     Yes              No     No              20   \n",
       "3           No  24.21      No              No     No               0   \n",
       "4           No  23.71      No              No     No              28   \n",
       "\n",
       "   MentalHealth DiffWalking     Sex PhysicalActivity  ...  Race_White  \\\n",
       "0            30          No  Female              Yes  ...           1   \n",
       "1             0          No  Female              Yes  ...           1   \n",
       "2            30          No    Male              Yes  ...           1   \n",
       "3             0          No  Female               No  ...           1   \n",
       "4             0         Yes  Female              Yes  ...           1   \n",
       "\n",
       "  GenHealth_Excellent GenHealth_Fair GenHealth_Good  GenHealth_Poor  \\\n",
       "0                   0              0              0               0   \n",
       "1                   0              0              0               0   \n",
       "2                   0              1              0               0   \n",
       "3                   0              0              1               0   \n",
       "4                   0              0              0               0   \n",
       "\n",
       "   GenHealth_Very good  Diabetic_No  Diabetic_No, borderline diabetes  \\\n",
       "0                    1            0                                 0   \n",
       "1                    1            1                                 0   \n",
       "2                    0            0                                 0   \n",
       "3                    0            1                                 0   \n",
       "4                    1            1                                 0   \n",
       "\n",
       "   Diabetic_Yes  Diabetic_Yes (during pregnancy)  \n",
       "0             1                                0  \n",
       "1             0                                0  \n",
       "2             1                                0  \n",
       "3             0                                0  \n",
       "4             0                                0  \n",
       "\n",
       "[5 rows x 29 columns]"
      ]
     },
     "execution_count": 14,
     "metadata": {},
     "output_type": "execute_result"
    }
   ],
   "source": [
    "dummy.head()"
   ]
  },
  {
   "cell_type": "code",
   "execution_count": 15,
   "id": "56989d41",
   "metadata": {},
   "outputs": [],
   "source": [
    "Age = df['AgeCategory'] # saperating AgeCategory for preprocessing"
   ]
  },
  {
   "cell_type": "code",
   "execution_count": 16,
   "id": "fbb99ef0",
   "metadata": {},
   "outputs": [
    {
     "data": {
      "text/plain": [
       "0          55-59\n",
       "1    80 or older\n",
       "2          65-69\n",
       "3          75-79\n",
       "4          40-44\n",
       "Name: AgeCategory, dtype: object"
      ]
     },
     "execution_count": 16,
     "metadata": {},
     "output_type": "execute_result"
    }
   ],
   "source": [
    "Age.head()"
   ]
  },
  {
   "cell_type": "code",
   "execution_count": 17,
   "id": "6ba67e1a",
   "metadata": {},
   "outputs": [],
   "source": [
    "Age.replace('.*80 or older.*', '80-100', regex=True, inplace=True) # Replacing data 80 or older by 80-100;\n",
    "AgeCategoy = []\n",
    "\n",
    "for value in Age:\n",
    "    average = sum(map(int, value.split('-'))) / 2\n",
    "    AgeCategoy.append(int(average))\n",
    "    \n",
    "AgeCategoy = pd.Series(AgeCategoy)"
   ]
  },
  {
   "cell_type": "code",
   "execution_count": 18,
   "id": "3779b809",
   "metadata": {},
   "outputs": [
    {
     "data": {
      "text/plain": [
       "0    57\n",
       "1    90\n",
       "2    67\n",
       "3    77\n",
       "4    42\n",
       "dtype: int64"
      ]
     },
     "execution_count": 18,
     "metadata": {},
     "output_type": "execute_result"
    }
   ],
   "source": [
    "AgeCategoy.head()"
   ]
  },
  {
   "cell_type": "code",
   "execution_count": 19,
   "id": "268c245d",
   "metadata": {},
   "outputs": [],
   "source": [
    "final= pd.concat([dummy,AgeCategoy],axis=1) # conating dummy and AgeCategory"
   ]
  },
  {
   "cell_type": "code",
   "execution_count": 20,
   "id": "65c11af7",
   "metadata": {},
   "outputs": [
    {
     "data": {
      "text/html": [
       "<div>\n",
       "<style scoped>\n",
       "    .dataframe tbody tr th:only-of-type {\n",
       "        vertical-align: middle;\n",
       "    }\n",
       "\n",
       "    .dataframe tbody tr th {\n",
       "        vertical-align: top;\n",
       "    }\n",
       "\n",
       "    .dataframe thead th {\n",
       "        text-align: right;\n",
       "    }\n",
       "</style>\n",
       "<table border=\"1\" class=\"dataframe\">\n",
       "  <thead>\n",
       "    <tr style=\"text-align: right;\">\n",
       "      <th></th>\n",
       "      <th>HeartDisease</th>\n",
       "      <th>BMI</th>\n",
       "      <th>Smoking</th>\n",
       "      <th>AlcoholDrinking</th>\n",
       "      <th>Stroke</th>\n",
       "      <th>PhysicalHealth</th>\n",
       "      <th>MentalHealth</th>\n",
       "      <th>DiffWalking</th>\n",
       "      <th>Sex</th>\n",
       "      <th>PhysicalActivity</th>\n",
       "      <th>...</th>\n",
       "      <th>GenHealth_Excellent</th>\n",
       "      <th>GenHealth_Fair</th>\n",
       "      <th>GenHealth_Good</th>\n",
       "      <th>GenHealth_Poor</th>\n",
       "      <th>GenHealth_Very good</th>\n",
       "      <th>Diabetic_No</th>\n",
       "      <th>Diabetic_No, borderline diabetes</th>\n",
       "      <th>Diabetic_Yes</th>\n",
       "      <th>Diabetic_Yes (during pregnancy)</th>\n",
       "      <th>0</th>\n",
       "    </tr>\n",
       "  </thead>\n",
       "  <tbody>\n",
       "    <tr>\n",
       "      <th>0</th>\n",
       "      <td>No</td>\n",
       "      <td>16.60</td>\n",
       "      <td>Yes</td>\n",
       "      <td>No</td>\n",
       "      <td>No</td>\n",
       "      <td>3</td>\n",
       "      <td>30</td>\n",
       "      <td>No</td>\n",
       "      <td>Female</td>\n",
       "      <td>Yes</td>\n",
       "      <td>...</td>\n",
       "      <td>0</td>\n",
       "      <td>0</td>\n",
       "      <td>0</td>\n",
       "      <td>0</td>\n",
       "      <td>1</td>\n",
       "      <td>0</td>\n",
       "      <td>0</td>\n",
       "      <td>1</td>\n",
       "      <td>0</td>\n",
       "      <td>57</td>\n",
       "    </tr>\n",
       "    <tr>\n",
       "      <th>1</th>\n",
       "      <td>No</td>\n",
       "      <td>20.34</td>\n",
       "      <td>No</td>\n",
       "      <td>No</td>\n",
       "      <td>Yes</td>\n",
       "      <td>0</td>\n",
       "      <td>0</td>\n",
       "      <td>No</td>\n",
       "      <td>Female</td>\n",
       "      <td>Yes</td>\n",
       "      <td>...</td>\n",
       "      <td>0</td>\n",
       "      <td>0</td>\n",
       "      <td>0</td>\n",
       "      <td>0</td>\n",
       "      <td>1</td>\n",
       "      <td>1</td>\n",
       "      <td>0</td>\n",
       "      <td>0</td>\n",
       "      <td>0</td>\n",
       "      <td>90</td>\n",
       "    </tr>\n",
       "    <tr>\n",
       "      <th>2</th>\n",
       "      <td>No</td>\n",
       "      <td>26.58</td>\n",
       "      <td>Yes</td>\n",
       "      <td>No</td>\n",
       "      <td>No</td>\n",
       "      <td>20</td>\n",
       "      <td>30</td>\n",
       "      <td>No</td>\n",
       "      <td>Male</td>\n",
       "      <td>Yes</td>\n",
       "      <td>...</td>\n",
       "      <td>0</td>\n",
       "      <td>1</td>\n",
       "      <td>0</td>\n",
       "      <td>0</td>\n",
       "      <td>0</td>\n",
       "      <td>0</td>\n",
       "      <td>0</td>\n",
       "      <td>1</td>\n",
       "      <td>0</td>\n",
       "      <td>67</td>\n",
       "    </tr>\n",
       "    <tr>\n",
       "      <th>3</th>\n",
       "      <td>No</td>\n",
       "      <td>24.21</td>\n",
       "      <td>No</td>\n",
       "      <td>No</td>\n",
       "      <td>No</td>\n",
       "      <td>0</td>\n",
       "      <td>0</td>\n",
       "      <td>No</td>\n",
       "      <td>Female</td>\n",
       "      <td>No</td>\n",
       "      <td>...</td>\n",
       "      <td>0</td>\n",
       "      <td>0</td>\n",
       "      <td>1</td>\n",
       "      <td>0</td>\n",
       "      <td>0</td>\n",
       "      <td>1</td>\n",
       "      <td>0</td>\n",
       "      <td>0</td>\n",
       "      <td>0</td>\n",
       "      <td>77</td>\n",
       "    </tr>\n",
       "    <tr>\n",
       "      <th>4</th>\n",
       "      <td>No</td>\n",
       "      <td>23.71</td>\n",
       "      <td>No</td>\n",
       "      <td>No</td>\n",
       "      <td>No</td>\n",
       "      <td>28</td>\n",
       "      <td>0</td>\n",
       "      <td>Yes</td>\n",
       "      <td>Female</td>\n",
       "      <td>Yes</td>\n",
       "      <td>...</td>\n",
       "      <td>0</td>\n",
       "      <td>0</td>\n",
       "      <td>0</td>\n",
       "      <td>0</td>\n",
       "      <td>1</td>\n",
       "      <td>1</td>\n",
       "      <td>0</td>\n",
       "      <td>0</td>\n",
       "      <td>0</td>\n",
       "      <td>42</td>\n",
       "    </tr>\n",
       "  </tbody>\n",
       "</table>\n",
       "<p>5 rows × 30 columns</p>\n",
       "</div>"
      ],
      "text/plain": [
       "  HeartDisease    BMI Smoking AlcoholDrinking Stroke  PhysicalHealth  \\\n",
       "0           No  16.60     Yes              No     No               3   \n",
       "1           No  20.34      No              No    Yes               0   \n",
       "2           No  26.58     Yes              No     No              20   \n",
       "3           No  24.21      No              No     No               0   \n",
       "4           No  23.71      No              No     No              28   \n",
       "\n",
       "   MentalHealth DiffWalking     Sex PhysicalActivity  ...  \\\n",
       "0            30          No  Female              Yes  ...   \n",
       "1             0          No  Female              Yes  ...   \n",
       "2            30          No    Male              Yes  ...   \n",
       "3             0          No  Female               No  ...   \n",
       "4             0         Yes  Female              Yes  ...   \n",
       "\n",
       "   GenHealth_Excellent GenHealth_Fair GenHealth_Good GenHealth_Poor  \\\n",
       "0                    0              0              0              0   \n",
       "1                    0              0              0              0   \n",
       "2                    0              1              0              0   \n",
       "3                    0              0              1              0   \n",
       "4                    0              0              0              0   \n",
       "\n",
       "   GenHealth_Very good  Diabetic_No  Diabetic_No, borderline diabetes  \\\n",
       "0                    1            0                                 0   \n",
       "1                    1            1                                 0   \n",
       "2                    0            0                                 0   \n",
       "3                    0            1                                 0   \n",
       "4                    1            1                                 0   \n",
       "\n",
       "   Diabetic_Yes  Diabetic_Yes (during pregnancy)   0  \n",
       "0             1                                0  57  \n",
       "1             0                                0  90  \n",
       "2             1                                0  67  \n",
       "3             0                                0  77  \n",
       "4             0                                0  42  \n",
       "\n",
       "[5 rows x 30 columns]"
      ]
     },
     "execution_count": 20,
     "metadata": {},
     "output_type": "execute_result"
    }
   ],
   "source": [
    "final.head()"
   ]
  },
  {
   "cell_type": "code",
   "execution_count": 21,
   "id": "b5fad9ee",
   "metadata": {},
   "outputs": [
    {
     "data": {
      "text/plain": [
       "Index([                       'HeartDisease',\n",
       "                                       'BMI',\n",
       "                                   'Smoking',\n",
       "                           'AlcoholDrinking',\n",
       "                                    'Stroke',\n",
       "                            'PhysicalHealth',\n",
       "                              'MentalHealth',\n",
       "                               'DiffWalking',\n",
       "                                       'Sex',\n",
       "                          'PhysicalActivity',\n",
       "                                 'SleepTime',\n",
       "                                    'Asthma',\n",
       "                             'KidneyDisease',\n",
       "                                'SkinCancer',\n",
       "       'Race_American Indian/Alaskan Native',\n",
       "                                'Race_Asian',\n",
       "                                'Race_Black',\n",
       "                             'Race_Hispanic',\n",
       "                                'Race_Other',\n",
       "                                'Race_White',\n",
       "                       'GenHealth_Excellent',\n",
       "                            'GenHealth_Fair',\n",
       "                            'GenHealth_Good',\n",
       "                            'GenHealth_Poor',\n",
       "                       'GenHealth_Very good',\n",
       "                               'Diabetic_No',\n",
       "          'Diabetic_No, borderline diabetes',\n",
       "                              'Diabetic_Yes',\n",
       "           'Diabetic_Yes (during pregnancy)',\n",
       "                                           0],\n",
       "      dtype='object')"
      ]
     },
     "execution_count": 21,
     "metadata": {},
     "output_type": "execute_result"
    }
   ],
   "source": [
    "final.columns"
   ]
  },
  {
   "cell_type": "code",
   "execution_count": 23,
   "id": "7484ec02",
   "metadata": {},
   "outputs": [],
   "source": [
    "final= final.rename(columns={0:'AgeCategory'}) # After concating AgeCategory is renamed"
   ]
  },
  {
   "cell_type": "code",
   "execution_count": 24,
   "id": "f30339af",
   "metadata": {},
   "outputs": [
    {
     "data": {
      "text/html": [
       "<div>\n",
       "<style scoped>\n",
       "    .dataframe tbody tr th:only-of-type {\n",
       "        vertical-align: middle;\n",
       "    }\n",
       "\n",
       "    .dataframe tbody tr th {\n",
       "        vertical-align: top;\n",
       "    }\n",
       "\n",
       "    .dataframe thead th {\n",
       "        text-align: right;\n",
       "    }\n",
       "</style>\n",
       "<table border=\"1\" class=\"dataframe\">\n",
       "  <thead>\n",
       "    <tr style=\"text-align: right;\">\n",
       "      <th></th>\n",
       "      <th>HeartDisease</th>\n",
       "      <th>BMI</th>\n",
       "      <th>Smoking</th>\n",
       "      <th>AlcoholDrinking</th>\n",
       "      <th>Stroke</th>\n",
       "      <th>PhysicalHealth</th>\n",
       "      <th>MentalHealth</th>\n",
       "      <th>DiffWalking</th>\n",
       "      <th>Sex</th>\n",
       "      <th>PhysicalActivity</th>\n",
       "      <th>...</th>\n",
       "      <th>GenHealth_Excellent</th>\n",
       "      <th>GenHealth_Fair</th>\n",
       "      <th>GenHealth_Good</th>\n",
       "      <th>GenHealth_Poor</th>\n",
       "      <th>GenHealth_Very good</th>\n",
       "      <th>Diabetic_No</th>\n",
       "      <th>Diabetic_No, borderline diabetes</th>\n",
       "      <th>Diabetic_Yes</th>\n",
       "      <th>Diabetic_Yes (during pregnancy)</th>\n",
       "      <th>AgeCategory</th>\n",
       "    </tr>\n",
       "  </thead>\n",
       "  <tbody>\n",
       "    <tr>\n",
       "      <th>0</th>\n",
       "      <td>No</td>\n",
       "      <td>16.60</td>\n",
       "      <td>Yes</td>\n",
       "      <td>No</td>\n",
       "      <td>No</td>\n",
       "      <td>3</td>\n",
       "      <td>30</td>\n",
       "      <td>No</td>\n",
       "      <td>Female</td>\n",
       "      <td>Yes</td>\n",
       "      <td>...</td>\n",
       "      <td>0</td>\n",
       "      <td>0</td>\n",
       "      <td>0</td>\n",
       "      <td>0</td>\n",
       "      <td>1</td>\n",
       "      <td>0</td>\n",
       "      <td>0</td>\n",
       "      <td>1</td>\n",
       "      <td>0</td>\n",
       "      <td>57</td>\n",
       "    </tr>\n",
       "    <tr>\n",
       "      <th>1</th>\n",
       "      <td>No</td>\n",
       "      <td>20.34</td>\n",
       "      <td>No</td>\n",
       "      <td>No</td>\n",
       "      <td>Yes</td>\n",
       "      <td>0</td>\n",
       "      <td>0</td>\n",
       "      <td>No</td>\n",
       "      <td>Female</td>\n",
       "      <td>Yes</td>\n",
       "      <td>...</td>\n",
       "      <td>0</td>\n",
       "      <td>0</td>\n",
       "      <td>0</td>\n",
       "      <td>0</td>\n",
       "      <td>1</td>\n",
       "      <td>1</td>\n",
       "      <td>0</td>\n",
       "      <td>0</td>\n",
       "      <td>0</td>\n",
       "      <td>90</td>\n",
       "    </tr>\n",
       "    <tr>\n",
       "      <th>2</th>\n",
       "      <td>No</td>\n",
       "      <td>26.58</td>\n",
       "      <td>Yes</td>\n",
       "      <td>No</td>\n",
       "      <td>No</td>\n",
       "      <td>20</td>\n",
       "      <td>30</td>\n",
       "      <td>No</td>\n",
       "      <td>Male</td>\n",
       "      <td>Yes</td>\n",
       "      <td>...</td>\n",
       "      <td>0</td>\n",
       "      <td>1</td>\n",
       "      <td>0</td>\n",
       "      <td>0</td>\n",
       "      <td>0</td>\n",
       "      <td>0</td>\n",
       "      <td>0</td>\n",
       "      <td>1</td>\n",
       "      <td>0</td>\n",
       "      <td>67</td>\n",
       "    </tr>\n",
       "    <tr>\n",
       "      <th>3</th>\n",
       "      <td>No</td>\n",
       "      <td>24.21</td>\n",
       "      <td>No</td>\n",
       "      <td>No</td>\n",
       "      <td>No</td>\n",
       "      <td>0</td>\n",
       "      <td>0</td>\n",
       "      <td>No</td>\n",
       "      <td>Female</td>\n",
       "      <td>No</td>\n",
       "      <td>...</td>\n",
       "      <td>0</td>\n",
       "      <td>0</td>\n",
       "      <td>1</td>\n",
       "      <td>0</td>\n",
       "      <td>0</td>\n",
       "      <td>1</td>\n",
       "      <td>0</td>\n",
       "      <td>0</td>\n",
       "      <td>0</td>\n",
       "      <td>77</td>\n",
       "    </tr>\n",
       "    <tr>\n",
       "      <th>4</th>\n",
       "      <td>No</td>\n",
       "      <td>23.71</td>\n",
       "      <td>No</td>\n",
       "      <td>No</td>\n",
       "      <td>No</td>\n",
       "      <td>28</td>\n",
       "      <td>0</td>\n",
       "      <td>Yes</td>\n",
       "      <td>Female</td>\n",
       "      <td>Yes</td>\n",
       "      <td>...</td>\n",
       "      <td>0</td>\n",
       "      <td>0</td>\n",
       "      <td>0</td>\n",
       "      <td>0</td>\n",
       "      <td>1</td>\n",
       "      <td>1</td>\n",
       "      <td>0</td>\n",
       "      <td>0</td>\n",
       "      <td>0</td>\n",
       "      <td>42</td>\n",
       "    </tr>\n",
       "  </tbody>\n",
       "</table>\n",
       "<p>5 rows × 30 columns</p>\n",
       "</div>"
      ],
      "text/plain": [
       "  HeartDisease    BMI Smoking AlcoholDrinking Stroke  PhysicalHealth  \\\n",
       "0           No  16.60     Yes              No     No               3   \n",
       "1           No  20.34      No              No    Yes               0   \n",
       "2           No  26.58     Yes              No     No              20   \n",
       "3           No  24.21      No              No     No               0   \n",
       "4           No  23.71      No              No     No              28   \n",
       "\n",
       "   MentalHealth DiffWalking     Sex PhysicalActivity  ...  \\\n",
       "0            30          No  Female              Yes  ...   \n",
       "1             0          No  Female              Yes  ...   \n",
       "2            30          No    Male              Yes  ...   \n",
       "3             0          No  Female               No  ...   \n",
       "4             0         Yes  Female              Yes  ...   \n",
       "\n",
       "   GenHealth_Excellent GenHealth_Fair GenHealth_Good GenHealth_Poor  \\\n",
       "0                    0              0              0              0   \n",
       "1                    0              0              0              0   \n",
       "2                    0              1              0              0   \n",
       "3                    0              0              1              0   \n",
       "4                    0              0              0              0   \n",
       "\n",
       "   GenHealth_Very good  Diabetic_No  Diabetic_No, borderline diabetes  \\\n",
       "0                    1            0                                 0   \n",
       "1                    1            1                                 0   \n",
       "2                    0            0                                 0   \n",
       "3                    0            1                                 0   \n",
       "4                    1            1                                 0   \n",
       "\n",
       "   Diabetic_Yes  Diabetic_Yes (during pregnancy)  AgeCategory  \n",
       "0             1                                0           57  \n",
       "1             0                                0           90  \n",
       "2             1                                0           67  \n",
       "3             0                                0           77  \n",
       "4             0                                0           42  \n",
       "\n",
       "[5 rows x 30 columns]"
      ]
     },
     "execution_count": 24,
     "metadata": {},
     "output_type": "execute_result"
    }
   ],
   "source": [
    "final.head()"
   ]
  },
  {
   "cell_type": "markdown",
   "id": "6ba1a3d7",
   "metadata": {},
   "source": [
    "# Label-Encoding"
   ]
  },
  {
   "cell_type": "code",
   "execution_count": 25,
   "id": "2a8fd227",
   "metadata": {},
   "outputs": [],
   "source": [
    "Le= LabelEncoder() # encoding all binary_categorical values_columns in data sets"
   ]
  },
  {
   "cell_type": "code",
   "execution_count": 26,
   "id": "94ad476a",
   "metadata": {},
   "outputs": [],
   "source": [
    "for col in final.columns:\n",
    "    if is_numeric_dtype([col]):\n",
    "        continue\n",
    "        \n",
    "    else:\n",
    "        final[col]=Le.fit_transform(final[col])"
   ]
  },
  {
   "cell_type": "code",
   "execution_count": 27,
   "id": "95bc4909",
   "metadata": {},
   "outputs": [
    {
     "data": {
      "text/html": [
       "<div>\n",
       "<style scoped>\n",
       "    .dataframe tbody tr th:only-of-type {\n",
       "        vertical-align: middle;\n",
       "    }\n",
       "\n",
       "    .dataframe tbody tr th {\n",
       "        vertical-align: top;\n",
       "    }\n",
       "\n",
       "    .dataframe thead th {\n",
       "        text-align: right;\n",
       "    }\n",
       "</style>\n",
       "<table border=\"1\" class=\"dataframe\">\n",
       "  <thead>\n",
       "    <tr style=\"text-align: right;\">\n",
       "      <th></th>\n",
       "      <th>HeartDisease</th>\n",
       "      <th>BMI</th>\n",
       "      <th>Smoking</th>\n",
       "      <th>AlcoholDrinking</th>\n",
       "      <th>Stroke</th>\n",
       "      <th>PhysicalHealth</th>\n",
       "      <th>MentalHealth</th>\n",
       "      <th>DiffWalking</th>\n",
       "      <th>Sex</th>\n",
       "      <th>PhysicalActivity</th>\n",
       "      <th>...</th>\n",
       "      <th>GenHealth_Excellent</th>\n",
       "      <th>GenHealth_Fair</th>\n",
       "      <th>GenHealth_Good</th>\n",
       "      <th>GenHealth_Poor</th>\n",
       "      <th>GenHealth_Very good</th>\n",
       "      <th>Diabetic_No</th>\n",
       "      <th>Diabetic_No, borderline diabetes</th>\n",
       "      <th>Diabetic_Yes</th>\n",
       "      <th>Diabetic_Yes (during pregnancy)</th>\n",
       "      <th>AgeCategory</th>\n",
       "    </tr>\n",
       "  </thead>\n",
       "  <tbody>\n",
       "    <tr>\n",
       "      <th>0</th>\n",
       "      <td>0</td>\n",
       "      <td>223</td>\n",
       "      <td>1</td>\n",
       "      <td>0</td>\n",
       "      <td>0</td>\n",
       "      <td>3</td>\n",
       "      <td>30</td>\n",
       "      <td>0</td>\n",
       "      <td>0</td>\n",
       "      <td>1</td>\n",
       "      <td>...</td>\n",
       "      <td>0</td>\n",
       "      <td>0</td>\n",
       "      <td>0</td>\n",
       "      <td>0</td>\n",
       "      <td>1</td>\n",
       "      <td>0</td>\n",
       "      <td>0</td>\n",
       "      <td>1</td>\n",
       "      <td>0</td>\n",
       "      <td>7</td>\n",
       "    </tr>\n",
       "    <tr>\n",
       "      <th>1</th>\n",
       "      <td>0</td>\n",
       "      <td>524</td>\n",
       "      <td>0</td>\n",
       "      <td>0</td>\n",
       "      <td>1</td>\n",
       "      <td>0</td>\n",
       "      <td>0</td>\n",
       "      <td>0</td>\n",
       "      <td>0</td>\n",
       "      <td>1</td>\n",
       "      <td>...</td>\n",
       "      <td>0</td>\n",
       "      <td>0</td>\n",
       "      <td>0</td>\n",
       "      <td>0</td>\n",
       "      <td>1</td>\n",
       "      <td>1</td>\n",
       "      <td>0</td>\n",
       "      <td>0</td>\n",
       "      <td>0</td>\n",
       "      <td>12</td>\n",
       "    </tr>\n",
       "    <tr>\n",
       "      <th>2</th>\n",
       "      <td>0</td>\n",
       "      <td>1103</td>\n",
       "      <td>1</td>\n",
       "      <td>0</td>\n",
       "      <td>0</td>\n",
       "      <td>20</td>\n",
       "      <td>30</td>\n",
       "      <td>0</td>\n",
       "      <td>1</td>\n",
       "      <td>1</td>\n",
       "      <td>...</td>\n",
       "      <td>0</td>\n",
       "      <td>1</td>\n",
       "      <td>0</td>\n",
       "      <td>0</td>\n",
       "      <td>0</td>\n",
       "      <td>0</td>\n",
       "      <td>0</td>\n",
       "      <td>1</td>\n",
       "      <td>0</td>\n",
       "      <td>9</td>\n",
       "    </tr>\n",
       "    <tr>\n",
       "      <th>3</th>\n",
       "      <td>0</td>\n",
       "      <td>883</td>\n",
       "      <td>0</td>\n",
       "      <td>0</td>\n",
       "      <td>0</td>\n",
       "      <td>0</td>\n",
       "      <td>0</td>\n",
       "      <td>0</td>\n",
       "      <td>0</td>\n",
       "      <td>0</td>\n",
       "      <td>...</td>\n",
       "      <td>0</td>\n",
       "      <td>0</td>\n",
       "      <td>1</td>\n",
       "      <td>0</td>\n",
       "      <td>0</td>\n",
       "      <td>1</td>\n",
       "      <td>0</td>\n",
       "      <td>0</td>\n",
       "      <td>0</td>\n",
       "      <td>11</td>\n",
       "    </tr>\n",
       "    <tr>\n",
       "      <th>4</th>\n",
       "      <td>0</td>\n",
       "      <td>837</td>\n",
       "      <td>0</td>\n",
       "      <td>0</td>\n",
       "      <td>0</td>\n",
       "      <td>28</td>\n",
       "      <td>0</td>\n",
       "      <td>1</td>\n",
       "      <td>0</td>\n",
       "      <td>1</td>\n",
       "      <td>...</td>\n",
       "      <td>0</td>\n",
       "      <td>0</td>\n",
       "      <td>0</td>\n",
       "      <td>0</td>\n",
       "      <td>1</td>\n",
       "      <td>1</td>\n",
       "      <td>0</td>\n",
       "      <td>0</td>\n",
       "      <td>0</td>\n",
       "      <td>4</td>\n",
       "    </tr>\n",
       "  </tbody>\n",
       "</table>\n",
       "<p>5 rows × 30 columns</p>\n",
       "</div>"
      ],
      "text/plain": [
       "   HeartDisease   BMI  Smoking  AlcoholDrinking  Stroke  PhysicalHealth  \\\n",
       "0             0   223        1                0       0               3   \n",
       "1             0   524        0                0       1               0   \n",
       "2             0  1103        1                0       0              20   \n",
       "3             0   883        0                0       0               0   \n",
       "4             0   837        0                0       0              28   \n",
       "\n",
       "   MentalHealth  DiffWalking  Sex  PhysicalActivity  ...  GenHealth_Excellent  \\\n",
       "0            30            0    0                 1  ...                    0   \n",
       "1             0            0    0                 1  ...                    0   \n",
       "2            30            0    1                 1  ...                    0   \n",
       "3             0            0    0                 0  ...                    0   \n",
       "4             0            1    0                 1  ...                    0   \n",
       "\n",
       "   GenHealth_Fair  GenHealth_Good  GenHealth_Poor  GenHealth_Very good  \\\n",
       "0               0               0               0                    1   \n",
       "1               0               0               0                    1   \n",
       "2               1               0               0                    0   \n",
       "3               0               1               0                    0   \n",
       "4               0               0               0                    1   \n",
       "\n",
       "   Diabetic_No  Diabetic_No, borderline diabetes  Diabetic_Yes  \\\n",
       "0            0                                 0             1   \n",
       "1            1                                 0             0   \n",
       "2            0                                 0             1   \n",
       "3            1                                 0             0   \n",
       "4            1                                 0             0   \n",
       "\n",
       "   Diabetic_Yes (during pregnancy)  AgeCategory  \n",
       "0                                0            7  \n",
       "1                                0           12  \n",
       "2                                0            9  \n",
       "3                                0           11  \n",
       "4                                0            4  \n",
       "\n",
       "[5 rows x 30 columns]"
      ]
     },
     "execution_count": 27,
     "metadata": {},
     "output_type": "execute_result"
    }
   ],
   "source": [
    "final.head()"
   ]
  },
  {
   "cell_type": "markdown",
   "id": "0de59e21",
   "metadata": {},
   "source": [
    "# Rellation Among conlumns"
   ]
  },
  {
   "cell_type": "code",
   "execution_count": 28,
   "id": "b113ef86",
   "metadata": {},
   "outputs": [
    {
     "data": {
      "text/html": [
       "<div>\n",
       "<style scoped>\n",
       "    .dataframe tbody tr th:only-of-type {\n",
       "        vertical-align: middle;\n",
       "    }\n",
       "\n",
       "    .dataframe tbody tr th {\n",
       "        vertical-align: top;\n",
       "    }\n",
       "\n",
       "    .dataframe thead th {\n",
       "        text-align: right;\n",
       "    }\n",
       "</style>\n",
       "<table border=\"1\" class=\"dataframe\">\n",
       "  <thead>\n",
       "    <tr style=\"text-align: right;\">\n",
       "      <th></th>\n",
       "      <th>HeartDisease</th>\n",
       "      <th>BMI</th>\n",
       "      <th>Smoking</th>\n",
       "      <th>AlcoholDrinking</th>\n",
       "      <th>Stroke</th>\n",
       "      <th>PhysicalHealth</th>\n",
       "      <th>MentalHealth</th>\n",
       "      <th>DiffWalking</th>\n",
       "      <th>Sex</th>\n",
       "      <th>PhysicalActivity</th>\n",
       "      <th>...</th>\n",
       "      <th>GenHealth_Excellent</th>\n",
       "      <th>GenHealth_Fair</th>\n",
       "      <th>GenHealth_Good</th>\n",
       "      <th>GenHealth_Poor</th>\n",
       "      <th>GenHealth_Very good</th>\n",
       "      <th>Diabetic_No</th>\n",
       "      <th>Diabetic_No, borderline diabetes</th>\n",
       "      <th>Diabetic_Yes</th>\n",
       "      <th>Diabetic_Yes (during pregnancy)</th>\n",
       "      <th>AgeCategory</th>\n",
       "    </tr>\n",
       "  </thead>\n",
       "  <tbody>\n",
       "    <tr>\n",
       "      <th>HeartDisease</th>\n",
       "      <td>1.000000</td>\n",
       "      <td>0.053722</td>\n",
       "      <td>0.107764</td>\n",
       "      <td>-0.032080</td>\n",
       "      <td>0.196835</td>\n",
       "      <td>0.170721</td>\n",
       "      <td>0.028591</td>\n",
       "      <td>0.201258</td>\n",
       "      <td>0.070040</td>\n",
       "      <td>-0.100030</td>\n",
       "      <td>...</td>\n",
       "      <td>-0.116042</td>\n",
       "      <td>0.147954</td>\n",
       "      <td>0.039033</td>\n",
       "      <td>0.174662</td>\n",
       "      <td>-0.101886</td>\n",
       "      <td>-0.170977</td>\n",
       "      <td>0.016182</td>\n",
       "      <td>0.183072</td>\n",
       "      <td>-0.013930</td>\n",
       "      <td>0.233432</td>\n",
       "    </tr>\n",
       "    <tr>\n",
       "      <th>BMI</th>\n",
       "      <td>0.053722</td>\n",
       "      <td>1.000000</td>\n",
       "      <td>0.024475</td>\n",
       "      <td>-0.039770</td>\n",
       "      <td>0.020127</td>\n",
       "      <td>0.105949</td>\n",
       "      <td>0.059946</td>\n",
       "      <td>0.177826</td>\n",
       "      <td>0.034836</td>\n",
       "      <td>-0.149719</td>\n",
       "      <td>...</td>\n",
       "      <td>-0.185300</td>\n",
       "      <td>0.125451</td>\n",
       "      <td>0.122328</td>\n",
       "      <td>0.057776</td>\n",
       "      <td>-0.062446</td>\n",
       "      <td>-0.211670</td>\n",
       "      <td>0.050325</td>\n",
       "      <td>0.206811</td>\n",
       "      <td>0.008037</td>\n",
       "      <td>0.000879</td>\n",
       "    </tr>\n",
       "    <tr>\n",
       "      <th>Smoking</th>\n",
       "      <td>0.107764</td>\n",
       "      <td>0.024475</td>\n",
       "      <td>1.000000</td>\n",
       "      <td>0.111768</td>\n",
       "      <td>0.061226</td>\n",
       "      <td>0.115352</td>\n",
       "      <td>0.085157</td>\n",
       "      <td>0.120074</td>\n",
       "      <td>0.085052</td>\n",
       "      <td>-0.097174</td>\n",
       "      <td>...</td>\n",
       "      <td>-0.117444</td>\n",
       "      <td>0.095620</td>\n",
       "      <td>0.059651</td>\n",
       "      <td>0.086520</td>\n",
       "      <td>-0.052305</td>\n",
       "      <td>-0.055127</td>\n",
       "      <td>0.007143</td>\n",
       "      <td>0.058434</td>\n",
       "      <td>-0.005385</td>\n",
       "      <td>0.128331</td>\n",
       "    </tr>\n",
       "    <tr>\n",
       "      <th>AlcoholDrinking</th>\n",
       "      <td>-0.032080</td>\n",
       "      <td>-0.039770</td>\n",
       "      <td>0.111768</td>\n",
       "      <td>1.000000</td>\n",
       "      <td>-0.019858</td>\n",
       "      <td>-0.017254</td>\n",
       "      <td>0.051282</td>\n",
       "      <td>-0.035328</td>\n",
       "      <td>0.004200</td>\n",
       "      <td>0.017487</td>\n",
       "      <td>...</td>\n",
       "      <td>0.015578</td>\n",
       "      <td>-0.018859</td>\n",
       "      <td>-0.007808</td>\n",
       "      <td>-0.017068</td>\n",
       "      <td>0.013005</td>\n",
       "      <td>0.057644</td>\n",
       "      <td>-0.008165</td>\n",
       "      <td>-0.058208</td>\n",
       "      <td>-0.004077</td>\n",
       "      <td>-0.059528</td>\n",
       "    </tr>\n",
       "    <tr>\n",
       "      <th>Stroke</th>\n",
       "      <td>0.196835</td>\n",
       "      <td>0.020127</td>\n",
       "      <td>0.061226</td>\n",
       "      <td>-0.019858</td>\n",
       "      <td>1.000000</td>\n",
       "      <td>0.137014</td>\n",
       "      <td>0.046467</td>\n",
       "      <td>0.174143</td>\n",
       "      <td>-0.003091</td>\n",
       "      <td>-0.079455</td>\n",
       "      <td>...</td>\n",
       "      <td>-0.073916</td>\n",
       "      <td>0.104983</td>\n",
       "      <td>0.013159</td>\n",
       "      <td>0.133641</td>\n",
       "      <td>-0.069395</td>\n",
       "      <td>-0.102787</td>\n",
       "      <td>0.011172</td>\n",
       "      <td>0.108407</td>\n",
       "      <td>-0.004526</td>\n",
       "      <td>0.137822</td>\n",
       "    </tr>\n",
       "    <tr>\n",
       "      <th>PhysicalHealth</th>\n",
       "      <td>0.170721</td>\n",
       "      <td>0.105949</td>\n",
       "      <td>0.115352</td>\n",
       "      <td>-0.017254</td>\n",
       "      <td>0.137014</td>\n",
       "      <td>1.000000</td>\n",
       "      <td>0.287987</td>\n",
       "      <td>0.428373</td>\n",
       "      <td>-0.040904</td>\n",
       "      <td>-0.232283</td>\n",
       "      <td>...</td>\n",
       "      <td>-0.173037</td>\n",
       "      <td>0.303773</td>\n",
       "      <td>-0.037663</td>\n",
       "      <td>0.471919</td>\n",
       "      <td>-0.196462</td>\n",
       "      <td>-0.153469</td>\n",
       "      <td>0.021437</td>\n",
       "      <td>0.158207</td>\n",
       "      <td>-0.000773</td>\n",
       "      <td>0.110763</td>\n",
       "    </tr>\n",
       "    <tr>\n",
       "      <th>MentalHealth</th>\n",
       "      <td>0.028591</td>\n",
       "      <td>0.059946</td>\n",
       "      <td>0.085157</td>\n",
       "      <td>0.051282</td>\n",
       "      <td>0.046467</td>\n",
       "      <td>0.287987</td>\n",
       "      <td>1.000000</td>\n",
       "      <td>0.152235</td>\n",
       "      <td>-0.100058</td>\n",
       "      <td>-0.095808</td>\n",
       "      <td>...</td>\n",
       "      <td>-0.111877</td>\n",
       "      <td>0.151321</td>\n",
       "      <td>0.013353</td>\n",
       "      <td>0.192079</td>\n",
       "      <td>-0.089956</td>\n",
       "      <td>-0.032353</td>\n",
       "      <td>0.011056</td>\n",
       "      <td>0.025480</td>\n",
       "      <td>0.018742</td>\n",
       "      <td>-0.155506</td>\n",
       "    </tr>\n",
       "    <tr>\n",
       "      <th>DiffWalking</th>\n",
       "      <td>0.201258</td>\n",
       "      <td>0.177826</td>\n",
       "      <td>0.120074</td>\n",
       "      <td>-0.035328</td>\n",
       "      <td>0.174143</td>\n",
       "      <td>0.428373</td>\n",
       "      <td>0.152235</td>\n",
       "      <td>1.000000</td>\n",
       "      <td>-0.068860</td>\n",
       "      <td>-0.278524</td>\n",
       "      <td>...</td>\n",
       "      <td>-0.173606</td>\n",
       "      <td>0.282517</td>\n",
       "      <td>0.031570</td>\n",
       "      <td>0.308767</td>\n",
       "      <td>-0.184986</td>\n",
       "      <td>-0.209640</td>\n",
       "      <td>0.031843</td>\n",
       "      <td>0.216605</td>\n",
       "      <td>-0.007040</td>\n",
       "      <td>0.243263</td>\n",
       "    </tr>\n",
       "    <tr>\n",
       "      <th>Sex</th>\n",
       "      <td>0.070040</td>\n",
       "      <td>0.034836</td>\n",
       "      <td>0.085052</td>\n",
       "      <td>0.004200</td>\n",
       "      <td>-0.003091</td>\n",
       "      <td>-0.040904</td>\n",
       "      <td>-0.100058</td>\n",
       "      <td>-0.068860</td>\n",
       "      <td>1.000000</td>\n",
       "      <td>0.048247</td>\n",
       "      <td>...</td>\n",
       "      <td>0.021757</td>\n",
       "      <td>-0.022456</td>\n",
       "      <td>0.003642</td>\n",
       "      <td>-0.010667</td>\n",
       "      <td>-0.003239</td>\n",
       "      <td>0.003636</td>\n",
       "      <td>-0.004295</td>\n",
       "      <td>0.020718</td>\n",
       "      <td>-0.085477</td>\n",
       "      <td>-0.067478</td>\n",
       "    </tr>\n",
       "    <tr>\n",
       "      <th>PhysicalActivity</th>\n",
       "      <td>-0.100030</td>\n",
       "      <td>-0.149719</td>\n",
       "      <td>-0.097174</td>\n",
       "      <td>0.017487</td>\n",
       "      <td>-0.079455</td>\n",
       "      <td>-0.232283</td>\n",
       "      <td>-0.095808</td>\n",
       "      <td>-0.278524</td>\n",
       "      <td>0.048247</td>\n",
       "      <td>1.000000</td>\n",
       "      <td>...</td>\n",
       "      <td>0.137030</td>\n",
       "      <td>-0.174255</td>\n",
       "      <td>-0.072263</td>\n",
       "      <td>-0.174144</td>\n",
       "      <td>0.132472</td>\n",
       "      <td>0.135451</td>\n",
       "      <td>-0.017253</td>\n",
       "      <td>-0.140571</td>\n",
       "      <td>0.001501</td>\n",
       "      <td>-0.121687</td>\n",
       "    </tr>\n",
       "    <tr>\n",
       "      <th>SleepTime</th>\n",
       "      <td>0.008327</td>\n",
       "      <td>-0.051971</td>\n",
       "      <td>-0.030336</td>\n",
       "      <td>-0.005065</td>\n",
       "      <td>0.011900</td>\n",
       "      <td>-0.061387</td>\n",
       "      <td>-0.119717</td>\n",
       "      <td>-0.022216</td>\n",
       "      <td>-0.015704</td>\n",
       "      <td>0.003849</td>\n",
       "      <td>...</td>\n",
       "      <td>0.038818</td>\n",
       "      <td>-0.040923</td>\n",
       "      <td>-0.013725</td>\n",
       "      <td>-0.033074</td>\n",
       "      <td>0.019379</td>\n",
       "      <td>-0.000494</td>\n",
       "      <td>-0.006957</td>\n",
       "      <td>0.006658</td>\n",
       "      <td>-0.011668</td>\n",
       "      <td>0.104953</td>\n",
       "    </tr>\n",
       "    <tr>\n",
       "      <th>Asthma</th>\n",
       "      <td>0.041444</td>\n",
       "      <td>0.090462</td>\n",
       "      <td>0.024149</td>\n",
       "      <td>-0.002202</td>\n",
       "      <td>0.038866</td>\n",
       "      <td>0.117907</td>\n",
       "      <td>0.114008</td>\n",
       "      <td>0.103222</td>\n",
       "      <td>-0.069191</td>\n",
       "      <td>-0.041526</td>\n",
       "      <td>...</td>\n",
       "      <td>-0.079495</td>\n",
       "      <td>0.084778</td>\n",
       "      <td>0.025939</td>\n",
       "      <td>0.083829</td>\n",
       "      <td>-0.044466</td>\n",
       "      <td>-0.050782</td>\n",
       "      <td>0.016750</td>\n",
       "      <td>0.044565</td>\n",
       "      <td>0.013282</td>\n",
       "      <td>-0.058108</td>\n",
       "    </tr>\n",
       "    <tr>\n",
       "      <th>KidneyDisease</th>\n",
       "      <td>0.145197</td>\n",
       "      <td>0.050818</td>\n",
       "      <td>0.034920</td>\n",
       "      <td>-0.028280</td>\n",
       "      <td>0.091167</td>\n",
       "      <td>0.142197</td>\n",
       "      <td>0.037281</td>\n",
       "      <td>0.153064</td>\n",
       "      <td>-0.009084</td>\n",
       "      <td>-0.081827</td>\n",
       "      <td>...</td>\n",
       "      <td>-0.076394</td>\n",
       "      <td>0.107149</td>\n",
       "      <td>0.016363</td>\n",
       "      <td>0.139102</td>\n",
       "      <td>-0.073842</td>\n",
       "      <td>-0.142371</td>\n",
       "      <td>0.004982</td>\n",
       "      <td>0.154268</td>\n",
       "      <td>-0.004706</td>\n",
       "      <td>0.123190</td>\n",
       "    </tr>\n",
       "    <tr>\n",
       "      <th>SkinCancer</th>\n",
       "      <td>0.093317</td>\n",
       "      <td>-0.032661</td>\n",
       "      <td>0.033977</td>\n",
       "      <td>-0.005702</td>\n",
       "      <td>0.048116</td>\n",
       "      <td>0.041700</td>\n",
       "      <td>-0.033412</td>\n",
       "      <td>0.064840</td>\n",
       "      <td>0.013434</td>\n",
       "      <td>-0.001328</td>\n",
       "      <td>...</td>\n",
       "      <td>-0.039795</td>\n",
       "      <td>0.023746</td>\n",
       "      <td>0.008125</td>\n",
       "      <td>0.032830</td>\n",
       "      <td>-0.001990</td>\n",
       "      <td>-0.034473</td>\n",
       "      <td>0.006025</td>\n",
       "      <td>0.037663</td>\n",
       "      <td>-0.010092</td>\n",
       "      <td>0.263537</td>\n",
       "    </tr>\n",
       "    <tr>\n",
       "      <th>Race_American Indian/Alaskan Native</th>\n",
       "      <td>0.008547</td>\n",
       "      <td>0.026652</td>\n",
       "      <td>0.035667</td>\n",
       "      <td>-0.004243</td>\n",
       "      <td>0.014357</td>\n",
       "      <td>0.022955</td>\n",
       "      <td>0.018394</td>\n",
       "      <td>0.025205</td>\n",
       "      <td>-0.003434</td>\n",
       "      <td>-0.017736</td>\n",
       "      <td>...</td>\n",
       "      <td>-0.014609</td>\n",
       "      <td>0.022334</td>\n",
       "      <td>0.015839</td>\n",
       "      <td>0.022017</td>\n",
       "      <td>-0.025611</td>\n",
       "      <td>-0.028442</td>\n",
       "      <td>0.008356</td>\n",
       "      <td>0.026472</td>\n",
       "      <td>0.003433</td>\n",
       "      <td>-0.025190</td>\n",
       "    </tr>\n",
       "    <tr>\n",
       "      <th>Race_Asian</th>\n",
       "      <td>-0.030262</td>\n",
       "      <td>-0.081898</td>\n",
       "      <td>-0.060308</td>\n",
       "      <td>-0.022275</td>\n",
       "      <td>-0.016060</td>\n",
       "      <td>-0.035229</td>\n",
       "      <td>-0.023113</td>\n",
       "      <td>-0.038830</td>\n",
       "      <td>0.013716</td>\n",
       "      <td>0.012106</td>\n",
       "      <td>...</td>\n",
       "      <td>0.026269</td>\n",
       "      <td>-0.024360</td>\n",
       "      <td>0.003752</td>\n",
       "      <td>-0.018024</td>\n",
       "      <td>-0.003102</td>\n",
       "      <td>0.002578</td>\n",
       "      <td>0.023243</td>\n",
       "      <td>-0.014785</td>\n",
       "      <td>0.007260</td>\n",
       "      <td>-0.083885</td>\n",
       "    </tr>\n",
       "    <tr>\n",
       "      <th>Race_Black</th>\n",
       "      <td>-0.010156</td>\n",
       "      <td>0.081029</td>\n",
       "      <td>-0.038249</td>\n",
       "      <td>-0.025980</td>\n",
       "      <td>0.024819</td>\n",
       "      <td>0.011371</td>\n",
       "      <td>0.010944</td>\n",
       "      <td>0.039615</td>\n",
       "      <td>-0.037280</td>\n",
       "      <td>-0.043701</td>\n",
       "      <td>...</td>\n",
       "      <td>-0.031729</td>\n",
       "      <td>0.046247</td>\n",
       "      <td>0.037898</td>\n",
       "      <td>0.010851</td>\n",
       "      <td>-0.043228</td>\n",
       "      <td>-0.055268</td>\n",
       "      <td>0.011827</td>\n",
       "      <td>0.055365</td>\n",
       "      <td>-0.000892</td>\n",
       "      <td>-0.034980</td>\n",
       "    </tr>\n",
       "    <tr>\n",
       "      <th>Race_Hispanic</th>\n",
       "      <td>-0.036163</td>\n",
       "      <td>0.023841</td>\n",
       "      <td>-0.066873</td>\n",
       "      <td>-0.015554</td>\n",
       "      <td>-0.025823</td>\n",
       "      <td>-0.005571</td>\n",
       "      <td>0.011167</td>\n",
       "      <td>-0.008214</td>\n",
       "      <td>-0.003607</td>\n",
       "      <td>-0.056564</td>\n",
       "      <td>...</td>\n",
       "      <td>0.013436</td>\n",
       "      <td>0.043656</td>\n",
       "      <td>0.023057</td>\n",
       "      <td>-0.003984</td>\n",
       "      <td>-0.060099</td>\n",
       "      <td>-0.012362</td>\n",
       "      <td>0.013951</td>\n",
       "      <td>0.004056</td>\n",
       "      <td>0.012703</td>\n",
       "      <td>-0.162338</td>\n",
       "    </tr>\n",
       "    <tr>\n",
       "      <th>Race_Other</th>\n",
       "      <td>-0.003039</td>\n",
       "      <td>0.011402</td>\n",
       "      <td>0.016205</td>\n",
       "      <td>0.005455</td>\n",
       "      <td>0.005743</td>\n",
       "      <td>0.016102</td>\n",
       "      <td>0.031385</td>\n",
       "      <td>0.008483</td>\n",
       "      <td>0.008762</td>\n",
       "      <td>0.001808</td>\n",
       "      <td>...</td>\n",
       "      <td>0.000080</td>\n",
       "      <td>0.009855</td>\n",
       "      <td>0.006653</td>\n",
       "      <td>0.012241</td>\n",
       "      <td>-0.017497</td>\n",
       "      <td>-0.013281</td>\n",
       "      <td>0.018433</td>\n",
       "      <td>0.003906</td>\n",
       "      <td>0.009767</td>\n",
       "      <td>-0.061239</td>\n",
       "    </tr>\n",
       "    <tr>\n",
       "      <th>Race_White</th>\n",
       "      <td>0.040121</td>\n",
       "      <td>-0.047736</td>\n",
       "      <td>0.072367</td>\n",
       "      <td>0.033342</td>\n",
       "      <td>0.001154</td>\n",
       "      <td>-0.003968</td>\n",
       "      <td>-0.024489</td>\n",
       "      <td>-0.015516</td>\n",
       "      <td>0.017314</td>\n",
       "      <td>0.064172</td>\n",
       "      <td>...</td>\n",
       "      <td>0.005055</td>\n",
       "      <td>-0.059017</td>\n",
       "      <td>-0.047385</td>\n",
       "      <td>-0.009143</td>\n",
       "      <td>0.082514</td>\n",
       "      <td>0.055169</td>\n",
       "      <td>-0.035494</td>\n",
       "      <td>-0.040584</td>\n",
       "      <td>-0.015785</td>\n",
       "      <td>0.193823</td>\n",
       "    </tr>\n",
       "    <tr>\n",
       "      <th>GenHealth_Excellent</th>\n",
       "      <td>-0.116042</td>\n",
       "      <td>-0.185300</td>\n",
       "      <td>-0.117444</td>\n",
       "      <td>0.015578</td>\n",
       "      <td>-0.073916</td>\n",
       "      <td>-0.173037</td>\n",
       "      <td>-0.111877</td>\n",
       "      <td>-0.173606</td>\n",
       "      <td>0.021757</td>\n",
       "      <td>0.137030</td>\n",
       "      <td>...</td>\n",
       "      <td>1.000000</td>\n",
       "      <td>-0.179272</td>\n",
       "      <td>-0.329499</td>\n",
       "      <td>-0.098333</td>\n",
       "      <td>-0.382225</td>\n",
       "      <td>0.155043</td>\n",
       "      <td>-0.035784</td>\n",
       "      <td>-0.152718</td>\n",
       "      <td>-0.003010</td>\n",
       "      <td>-0.143473</td>\n",
       "    </tr>\n",
       "    <tr>\n",
       "      <th>GenHealth_Fair</th>\n",
       "      <td>0.147954</td>\n",
       "      <td>0.125451</td>\n",
       "      <td>0.095620</td>\n",
       "      <td>-0.018859</td>\n",
       "      <td>0.104983</td>\n",
       "      <td>0.303773</td>\n",
       "      <td>0.151321</td>\n",
       "      <td>0.282517</td>\n",
       "      <td>-0.022456</td>\n",
       "      <td>-0.174255</td>\n",
       "      <td>...</td>\n",
       "      <td>-0.179272</td>\n",
       "      <td>1.000000</td>\n",
       "      <td>-0.223541</td>\n",
       "      <td>-0.066712</td>\n",
       "      <td>-0.259312</td>\n",
       "      <td>-0.176155</td>\n",
       "      <td>0.027344</td>\n",
       "      <td>0.179979</td>\n",
       "      <td>0.000735</td>\n",
       "      <td>0.101994</td>\n",
       "    </tr>\n",
       "    <tr>\n",
       "      <th>GenHealth_Good</th>\n",
       "      <td>0.039033</td>\n",
       "      <td>0.122328</td>\n",
       "      <td>0.059651</td>\n",
       "      <td>-0.007808</td>\n",
       "      <td>0.013159</td>\n",
       "      <td>-0.037663</td>\n",
       "      <td>0.013353</td>\n",
       "      <td>0.031570</td>\n",
       "      <td>0.003642</td>\n",
       "      <td>-0.072263</td>\n",
       "      <td>...</td>\n",
       "      <td>-0.329499</td>\n",
       "      <td>-0.223541</td>\n",
       "      <td>1.000000</td>\n",
       "      <td>-0.122615</td>\n",
       "      <td>-0.476611</td>\n",
       "      <td>-0.086297</td>\n",
       "      <td>0.024809</td>\n",
       "      <td>0.082208</td>\n",
       "      <td>0.004232</td>\n",
       "      <td>0.059599</td>\n",
       "    </tr>\n",
       "    <tr>\n",
       "      <th>GenHealth_Poor</th>\n",
       "      <td>0.174662</td>\n",
       "      <td>0.057776</td>\n",
       "      <td>0.086520</td>\n",
       "      <td>-0.017068</td>\n",
       "      <td>0.133641</td>\n",
       "      <td>0.471919</td>\n",
       "      <td>0.192079</td>\n",
       "      <td>0.308767</td>\n",
       "      <td>-0.010667</td>\n",
       "      <td>-0.174144</td>\n",
       "      <td>...</td>\n",
       "      <td>-0.098333</td>\n",
       "      <td>-0.066712</td>\n",
       "      <td>-0.122615</td>\n",
       "      <td>1.000000</td>\n",
       "      <td>-0.142236</td>\n",
       "      <td>-0.132442</td>\n",
       "      <td>0.012659</td>\n",
       "      <td>0.140010</td>\n",
       "      <td>-0.004248</td>\n",
       "      <td>0.086026</td>\n",
       "    </tr>\n",
       "    <tr>\n",
       "      <th>GenHealth_Very good</th>\n",
       "      <td>-0.101886</td>\n",
       "      <td>-0.062446</td>\n",
       "      <td>-0.052305</td>\n",
       "      <td>0.013005</td>\n",
       "      <td>-0.069395</td>\n",
       "      <td>-0.196462</td>\n",
       "      <td>-0.089956</td>\n",
       "      <td>-0.184986</td>\n",
       "      <td>-0.003239</td>\n",
       "      <td>0.132472</td>\n",
       "      <td>...</td>\n",
       "      <td>-0.382225</td>\n",
       "      <td>-0.259312</td>\n",
       "      <td>-0.476611</td>\n",
       "      <td>-0.142236</td>\n",
       "      <td>1.000000</td>\n",
       "      <td>0.115653</td>\n",
       "      <td>-0.015787</td>\n",
       "      <td>-0.119147</td>\n",
       "      <td>-0.000300</td>\n",
       "      <td>-0.034101</td>\n",
       "    </tr>\n",
       "    <tr>\n",
       "      <th>Diabetic_No</th>\n",
       "      <td>-0.170977</td>\n",
       "      <td>-0.211670</td>\n",
       "      <td>-0.055127</td>\n",
       "      <td>0.057644</td>\n",
       "      <td>-0.102787</td>\n",
       "      <td>-0.153469</td>\n",
       "      <td>-0.032353</td>\n",
       "      <td>-0.209640</td>\n",
       "      <td>0.003636</td>\n",
       "      <td>0.135451</td>\n",
       "      <td>...</td>\n",
       "      <td>0.155043</td>\n",
       "      <td>-0.176155</td>\n",
       "      <td>-0.086297</td>\n",
       "      <td>-0.132442</td>\n",
       "      <td>0.115653</td>\n",
       "      <td>1.000000</td>\n",
       "      <td>-0.341324</td>\n",
       "      <td>-0.886841</td>\n",
       "      <td>-0.208279</td>\n",
       "      <td>-0.204698</td>\n",
       "    </tr>\n",
       "    <tr>\n",
       "      <th>Diabetic_No, borderline diabetes</th>\n",
       "      <td>0.016182</td>\n",
       "      <td>0.050325</td>\n",
       "      <td>0.007143</td>\n",
       "      <td>-0.008165</td>\n",
       "      <td>0.011172</td>\n",
       "      <td>0.021437</td>\n",
       "      <td>0.011056</td>\n",
       "      <td>0.031843</td>\n",
       "      <td>-0.004295</td>\n",
       "      <td>-0.017253</td>\n",
       "      <td>...</td>\n",
       "      <td>-0.035784</td>\n",
       "      <td>0.027344</td>\n",
       "      <td>0.024809</td>\n",
       "      <td>0.012659</td>\n",
       "      <td>-0.015787</td>\n",
       "      <td>-0.341324</td>\n",
       "      <td>1.000000</td>\n",
       "      <td>-0.056287</td>\n",
       "      <td>-0.013219</td>\n",
       "      <td>0.048662</td>\n",
       "    </tr>\n",
       "    <tr>\n",
       "      <th>Diabetic_Yes</th>\n",
       "      <td>0.183072</td>\n",
       "      <td>0.206811</td>\n",
       "      <td>0.058434</td>\n",
       "      <td>-0.058208</td>\n",
       "      <td>0.108407</td>\n",
       "      <td>0.158207</td>\n",
       "      <td>0.025480</td>\n",
       "      <td>0.216605</td>\n",
       "      <td>0.020718</td>\n",
       "      <td>-0.140571</td>\n",
       "      <td>...</td>\n",
       "      <td>-0.152718</td>\n",
       "      <td>0.179979</td>\n",
       "      <td>0.082208</td>\n",
       "      <td>0.140010</td>\n",
       "      <td>-0.119147</td>\n",
       "      <td>-0.886841</td>\n",
       "      <td>-0.056287</td>\n",
       "      <td>1.000000</td>\n",
       "      <td>-0.034347</td>\n",
       "      <td>0.211174</td>\n",
       "    </tr>\n",
       "    <tr>\n",
       "      <th>Diabetic_Yes (during pregnancy)</th>\n",
       "      <td>-0.013930</td>\n",
       "      <td>0.008037</td>\n",
       "      <td>-0.005385</td>\n",
       "      <td>-0.004077</td>\n",
       "      <td>-0.004526</td>\n",
       "      <td>-0.000773</td>\n",
       "      <td>0.018742</td>\n",
       "      <td>-0.007040</td>\n",
       "      <td>-0.085477</td>\n",
       "      <td>0.001501</td>\n",
       "      <td>...</td>\n",
       "      <td>-0.003010</td>\n",
       "      <td>0.000735</td>\n",
       "      <td>0.004232</td>\n",
       "      <td>-0.004248</td>\n",
       "      <td>-0.000300</td>\n",
       "      <td>-0.208279</td>\n",
       "      <td>-0.013219</td>\n",
       "      <td>-0.034347</td>\n",
       "      <td>1.000000</td>\n",
       "      <td>-0.034063</td>\n",
       "    </tr>\n",
       "    <tr>\n",
       "      <th>AgeCategory</th>\n",
       "      <td>0.233432</td>\n",
       "      <td>0.000879</td>\n",
       "      <td>0.128331</td>\n",
       "      <td>-0.059528</td>\n",
       "      <td>0.137822</td>\n",
       "      <td>0.110763</td>\n",
       "      <td>-0.155506</td>\n",
       "      <td>0.243263</td>\n",
       "      <td>-0.067478</td>\n",
       "      <td>-0.121687</td>\n",
       "      <td>...</td>\n",
       "      <td>-0.143473</td>\n",
       "      <td>0.101994</td>\n",
       "      <td>0.059599</td>\n",
       "      <td>0.086026</td>\n",
       "      <td>-0.034101</td>\n",
       "      <td>-0.204698</td>\n",
       "      <td>0.048662</td>\n",
       "      <td>0.211174</td>\n",
       "      <td>-0.034063</td>\n",
       "      <td>1.000000</td>\n",
       "    </tr>\n",
       "  </tbody>\n",
       "</table>\n",
       "<p>30 rows × 30 columns</p>\n",
       "</div>"
      ],
      "text/plain": [
       "                                     HeartDisease       BMI   Smoking  \\\n",
       "HeartDisease                             1.000000  0.053722  0.107764   \n",
       "BMI                                      0.053722  1.000000  0.024475   \n",
       "Smoking                                  0.107764  0.024475  1.000000   \n",
       "AlcoholDrinking                         -0.032080 -0.039770  0.111768   \n",
       "Stroke                                   0.196835  0.020127  0.061226   \n",
       "PhysicalHealth                           0.170721  0.105949  0.115352   \n",
       "MentalHealth                             0.028591  0.059946  0.085157   \n",
       "DiffWalking                              0.201258  0.177826  0.120074   \n",
       "Sex                                      0.070040  0.034836  0.085052   \n",
       "PhysicalActivity                        -0.100030 -0.149719 -0.097174   \n",
       "SleepTime                                0.008327 -0.051971 -0.030336   \n",
       "Asthma                                   0.041444  0.090462  0.024149   \n",
       "KidneyDisease                            0.145197  0.050818  0.034920   \n",
       "SkinCancer                               0.093317 -0.032661  0.033977   \n",
       "Race_American Indian/Alaskan Native      0.008547  0.026652  0.035667   \n",
       "Race_Asian                              -0.030262 -0.081898 -0.060308   \n",
       "Race_Black                              -0.010156  0.081029 -0.038249   \n",
       "Race_Hispanic                           -0.036163  0.023841 -0.066873   \n",
       "Race_Other                              -0.003039  0.011402  0.016205   \n",
       "Race_White                               0.040121 -0.047736  0.072367   \n",
       "GenHealth_Excellent                     -0.116042 -0.185300 -0.117444   \n",
       "GenHealth_Fair                           0.147954  0.125451  0.095620   \n",
       "GenHealth_Good                           0.039033  0.122328  0.059651   \n",
       "GenHealth_Poor                           0.174662  0.057776  0.086520   \n",
       "GenHealth_Very good                     -0.101886 -0.062446 -0.052305   \n",
       "Diabetic_No                             -0.170977 -0.211670 -0.055127   \n",
       "Diabetic_No, borderline diabetes         0.016182  0.050325  0.007143   \n",
       "Diabetic_Yes                             0.183072  0.206811  0.058434   \n",
       "Diabetic_Yes (during pregnancy)         -0.013930  0.008037 -0.005385   \n",
       "AgeCategory                              0.233432  0.000879  0.128331   \n",
       "\n",
       "                                     AlcoholDrinking    Stroke  \\\n",
       "HeartDisease                               -0.032080  0.196835   \n",
       "BMI                                        -0.039770  0.020127   \n",
       "Smoking                                     0.111768  0.061226   \n",
       "AlcoholDrinking                             1.000000 -0.019858   \n",
       "Stroke                                     -0.019858  1.000000   \n",
       "PhysicalHealth                             -0.017254  0.137014   \n",
       "MentalHealth                                0.051282  0.046467   \n",
       "DiffWalking                                -0.035328  0.174143   \n",
       "Sex                                         0.004200 -0.003091   \n",
       "PhysicalActivity                            0.017487 -0.079455   \n",
       "SleepTime                                  -0.005065  0.011900   \n",
       "Asthma                                     -0.002202  0.038866   \n",
       "KidneyDisease                              -0.028280  0.091167   \n",
       "SkinCancer                                 -0.005702  0.048116   \n",
       "Race_American Indian/Alaskan Native        -0.004243  0.014357   \n",
       "Race_Asian                                 -0.022275 -0.016060   \n",
       "Race_Black                                 -0.025980  0.024819   \n",
       "Race_Hispanic                              -0.015554 -0.025823   \n",
       "Race_Other                                  0.005455  0.005743   \n",
       "Race_White                                  0.033342  0.001154   \n",
       "GenHealth_Excellent                         0.015578 -0.073916   \n",
       "GenHealth_Fair                             -0.018859  0.104983   \n",
       "GenHealth_Good                             -0.007808  0.013159   \n",
       "GenHealth_Poor                             -0.017068  0.133641   \n",
       "GenHealth_Very good                         0.013005 -0.069395   \n",
       "Diabetic_No                                 0.057644 -0.102787   \n",
       "Diabetic_No, borderline diabetes           -0.008165  0.011172   \n",
       "Diabetic_Yes                               -0.058208  0.108407   \n",
       "Diabetic_Yes (during pregnancy)            -0.004077 -0.004526   \n",
       "AgeCategory                                -0.059528  0.137822   \n",
       "\n",
       "                                     PhysicalHealth  MentalHealth  \\\n",
       "HeartDisease                               0.170721      0.028591   \n",
       "BMI                                        0.105949      0.059946   \n",
       "Smoking                                    0.115352      0.085157   \n",
       "AlcoholDrinking                           -0.017254      0.051282   \n",
       "Stroke                                     0.137014      0.046467   \n",
       "PhysicalHealth                             1.000000      0.287987   \n",
       "MentalHealth                               0.287987      1.000000   \n",
       "DiffWalking                                0.428373      0.152235   \n",
       "Sex                                       -0.040904     -0.100058   \n",
       "PhysicalActivity                          -0.232283     -0.095808   \n",
       "SleepTime                                 -0.061387     -0.119717   \n",
       "Asthma                                     0.117907      0.114008   \n",
       "KidneyDisease                              0.142197      0.037281   \n",
       "SkinCancer                                 0.041700     -0.033412   \n",
       "Race_American Indian/Alaskan Native        0.022955      0.018394   \n",
       "Race_Asian                                -0.035229     -0.023113   \n",
       "Race_Black                                 0.011371      0.010944   \n",
       "Race_Hispanic                             -0.005571      0.011167   \n",
       "Race_Other                                 0.016102      0.031385   \n",
       "Race_White                                -0.003968     -0.024489   \n",
       "GenHealth_Excellent                       -0.173037     -0.111877   \n",
       "GenHealth_Fair                             0.303773      0.151321   \n",
       "GenHealth_Good                            -0.037663      0.013353   \n",
       "GenHealth_Poor                             0.471919      0.192079   \n",
       "GenHealth_Very good                       -0.196462     -0.089956   \n",
       "Diabetic_No                               -0.153469     -0.032353   \n",
       "Diabetic_No, borderline diabetes           0.021437      0.011056   \n",
       "Diabetic_Yes                               0.158207      0.025480   \n",
       "Diabetic_Yes (during pregnancy)           -0.000773      0.018742   \n",
       "AgeCategory                                0.110763     -0.155506   \n",
       "\n",
       "                                     DiffWalking       Sex  PhysicalActivity  \\\n",
       "HeartDisease                            0.201258  0.070040         -0.100030   \n",
       "BMI                                     0.177826  0.034836         -0.149719   \n",
       "Smoking                                 0.120074  0.085052         -0.097174   \n",
       "AlcoholDrinking                        -0.035328  0.004200          0.017487   \n",
       "Stroke                                  0.174143 -0.003091         -0.079455   \n",
       "PhysicalHealth                          0.428373 -0.040904         -0.232283   \n",
       "MentalHealth                            0.152235 -0.100058         -0.095808   \n",
       "DiffWalking                             1.000000 -0.068860         -0.278524   \n",
       "Sex                                    -0.068860  1.000000          0.048247   \n",
       "PhysicalActivity                       -0.278524  0.048247          1.000000   \n",
       "SleepTime                              -0.022216 -0.015704          0.003849   \n",
       "Asthma                                  0.103222 -0.069191         -0.041526   \n",
       "KidneyDisease                           0.153064 -0.009084         -0.081827   \n",
       "SkinCancer                              0.064840  0.013434         -0.001328   \n",
       "Race_American Indian/Alaskan Native     0.025205 -0.003434         -0.017736   \n",
       "Race_Asian                             -0.038830  0.013716          0.012106   \n",
       "Race_Black                              0.039615 -0.037280         -0.043701   \n",
       "Race_Hispanic                          -0.008214 -0.003607         -0.056564   \n",
       "Race_Other                              0.008483  0.008762          0.001808   \n",
       "Race_White                             -0.015516  0.017314          0.064172   \n",
       "GenHealth_Excellent                    -0.173606  0.021757          0.137030   \n",
       "GenHealth_Fair                          0.282517 -0.022456         -0.174255   \n",
       "GenHealth_Good                          0.031570  0.003642         -0.072263   \n",
       "GenHealth_Poor                          0.308767 -0.010667         -0.174144   \n",
       "GenHealth_Very good                    -0.184986 -0.003239          0.132472   \n",
       "Diabetic_No                            -0.209640  0.003636          0.135451   \n",
       "Diabetic_No, borderline diabetes        0.031843 -0.004295         -0.017253   \n",
       "Diabetic_Yes                            0.216605  0.020718         -0.140571   \n",
       "Diabetic_Yes (during pregnancy)        -0.007040 -0.085477          0.001501   \n",
       "AgeCategory                             0.243263 -0.067478         -0.121687   \n",
       "\n",
       "                                     ...  GenHealth_Excellent  GenHealth_Fair  \\\n",
       "HeartDisease                         ...            -0.116042        0.147954   \n",
       "BMI                                  ...            -0.185300        0.125451   \n",
       "Smoking                              ...            -0.117444        0.095620   \n",
       "AlcoholDrinking                      ...             0.015578       -0.018859   \n",
       "Stroke                               ...            -0.073916        0.104983   \n",
       "PhysicalHealth                       ...            -0.173037        0.303773   \n",
       "MentalHealth                         ...            -0.111877        0.151321   \n",
       "DiffWalking                          ...            -0.173606        0.282517   \n",
       "Sex                                  ...             0.021757       -0.022456   \n",
       "PhysicalActivity                     ...             0.137030       -0.174255   \n",
       "SleepTime                            ...             0.038818       -0.040923   \n",
       "Asthma                               ...            -0.079495        0.084778   \n",
       "KidneyDisease                        ...            -0.076394        0.107149   \n",
       "SkinCancer                           ...            -0.039795        0.023746   \n",
       "Race_American Indian/Alaskan Native  ...            -0.014609        0.022334   \n",
       "Race_Asian                           ...             0.026269       -0.024360   \n",
       "Race_Black                           ...            -0.031729        0.046247   \n",
       "Race_Hispanic                        ...             0.013436        0.043656   \n",
       "Race_Other                           ...             0.000080        0.009855   \n",
       "Race_White                           ...             0.005055       -0.059017   \n",
       "GenHealth_Excellent                  ...             1.000000       -0.179272   \n",
       "GenHealth_Fair                       ...            -0.179272        1.000000   \n",
       "GenHealth_Good                       ...            -0.329499       -0.223541   \n",
       "GenHealth_Poor                       ...            -0.098333       -0.066712   \n",
       "GenHealth_Very good                  ...            -0.382225       -0.259312   \n",
       "Diabetic_No                          ...             0.155043       -0.176155   \n",
       "Diabetic_No, borderline diabetes     ...            -0.035784        0.027344   \n",
       "Diabetic_Yes                         ...            -0.152718        0.179979   \n",
       "Diabetic_Yes (during pregnancy)      ...            -0.003010        0.000735   \n",
       "AgeCategory                          ...            -0.143473        0.101994   \n",
       "\n",
       "                                     GenHealth_Good  GenHealth_Poor  \\\n",
       "HeartDisease                               0.039033        0.174662   \n",
       "BMI                                        0.122328        0.057776   \n",
       "Smoking                                    0.059651        0.086520   \n",
       "AlcoholDrinking                           -0.007808       -0.017068   \n",
       "Stroke                                     0.013159        0.133641   \n",
       "PhysicalHealth                            -0.037663        0.471919   \n",
       "MentalHealth                               0.013353        0.192079   \n",
       "DiffWalking                                0.031570        0.308767   \n",
       "Sex                                        0.003642       -0.010667   \n",
       "PhysicalActivity                          -0.072263       -0.174144   \n",
       "SleepTime                                 -0.013725       -0.033074   \n",
       "Asthma                                     0.025939        0.083829   \n",
       "KidneyDisease                              0.016363        0.139102   \n",
       "SkinCancer                                 0.008125        0.032830   \n",
       "Race_American Indian/Alaskan Native        0.015839        0.022017   \n",
       "Race_Asian                                 0.003752       -0.018024   \n",
       "Race_Black                                 0.037898        0.010851   \n",
       "Race_Hispanic                              0.023057       -0.003984   \n",
       "Race_Other                                 0.006653        0.012241   \n",
       "Race_White                                -0.047385       -0.009143   \n",
       "GenHealth_Excellent                       -0.329499       -0.098333   \n",
       "GenHealth_Fair                            -0.223541       -0.066712   \n",
       "GenHealth_Good                             1.000000       -0.122615   \n",
       "GenHealth_Poor                            -0.122615        1.000000   \n",
       "GenHealth_Very good                       -0.476611       -0.142236   \n",
       "Diabetic_No                               -0.086297       -0.132442   \n",
       "Diabetic_No, borderline diabetes           0.024809        0.012659   \n",
       "Diabetic_Yes                               0.082208        0.140010   \n",
       "Diabetic_Yes (during pregnancy)            0.004232       -0.004248   \n",
       "AgeCategory                                0.059599        0.086026   \n",
       "\n",
       "                                     GenHealth_Very good  Diabetic_No  \\\n",
       "HeartDisease                                   -0.101886    -0.170977   \n",
       "BMI                                            -0.062446    -0.211670   \n",
       "Smoking                                        -0.052305    -0.055127   \n",
       "AlcoholDrinking                                 0.013005     0.057644   \n",
       "Stroke                                         -0.069395    -0.102787   \n",
       "PhysicalHealth                                 -0.196462    -0.153469   \n",
       "MentalHealth                                   -0.089956    -0.032353   \n",
       "DiffWalking                                    -0.184986    -0.209640   \n",
       "Sex                                            -0.003239     0.003636   \n",
       "PhysicalActivity                                0.132472     0.135451   \n",
       "SleepTime                                       0.019379    -0.000494   \n",
       "Asthma                                         -0.044466    -0.050782   \n",
       "KidneyDisease                                  -0.073842    -0.142371   \n",
       "SkinCancer                                     -0.001990    -0.034473   \n",
       "Race_American Indian/Alaskan Native            -0.025611    -0.028442   \n",
       "Race_Asian                                     -0.003102     0.002578   \n",
       "Race_Black                                     -0.043228    -0.055268   \n",
       "Race_Hispanic                                  -0.060099    -0.012362   \n",
       "Race_Other                                     -0.017497    -0.013281   \n",
       "Race_White                                      0.082514     0.055169   \n",
       "GenHealth_Excellent                            -0.382225     0.155043   \n",
       "GenHealth_Fair                                 -0.259312    -0.176155   \n",
       "GenHealth_Good                                 -0.476611    -0.086297   \n",
       "GenHealth_Poor                                 -0.142236    -0.132442   \n",
       "GenHealth_Very good                             1.000000     0.115653   \n",
       "Diabetic_No                                     0.115653     1.000000   \n",
       "Diabetic_No, borderline diabetes               -0.015787    -0.341324   \n",
       "Diabetic_Yes                                   -0.119147    -0.886841   \n",
       "Diabetic_Yes (during pregnancy)                -0.000300    -0.208279   \n",
       "AgeCategory                                    -0.034101    -0.204698   \n",
       "\n",
       "                                     Diabetic_No, borderline diabetes  \\\n",
       "HeartDisease                                                 0.016182   \n",
       "BMI                                                          0.050325   \n",
       "Smoking                                                      0.007143   \n",
       "AlcoholDrinking                                             -0.008165   \n",
       "Stroke                                                       0.011172   \n",
       "PhysicalHealth                                               0.021437   \n",
       "MentalHealth                                                 0.011056   \n",
       "DiffWalking                                                  0.031843   \n",
       "Sex                                                         -0.004295   \n",
       "PhysicalActivity                                            -0.017253   \n",
       "SleepTime                                                   -0.006957   \n",
       "Asthma                                                       0.016750   \n",
       "KidneyDisease                                                0.004982   \n",
       "SkinCancer                                                   0.006025   \n",
       "Race_American Indian/Alaskan Native                          0.008356   \n",
       "Race_Asian                                                   0.023243   \n",
       "Race_Black                                                   0.011827   \n",
       "Race_Hispanic                                                0.013951   \n",
       "Race_Other                                                   0.018433   \n",
       "Race_White                                                  -0.035494   \n",
       "GenHealth_Excellent                                         -0.035784   \n",
       "GenHealth_Fair                                               0.027344   \n",
       "GenHealth_Good                                               0.024809   \n",
       "GenHealth_Poor                                               0.012659   \n",
       "GenHealth_Very good                                         -0.015787   \n",
       "Diabetic_No                                                 -0.341324   \n",
       "Diabetic_No, borderline diabetes                             1.000000   \n",
       "Diabetic_Yes                                                -0.056287   \n",
       "Diabetic_Yes (during pregnancy)                             -0.013219   \n",
       "AgeCategory                                                  0.048662   \n",
       "\n",
       "                                     Diabetic_Yes  \\\n",
       "HeartDisease                             0.183072   \n",
       "BMI                                      0.206811   \n",
       "Smoking                                  0.058434   \n",
       "AlcoholDrinking                         -0.058208   \n",
       "Stroke                                   0.108407   \n",
       "PhysicalHealth                           0.158207   \n",
       "MentalHealth                             0.025480   \n",
       "DiffWalking                              0.216605   \n",
       "Sex                                      0.020718   \n",
       "PhysicalActivity                        -0.140571   \n",
       "SleepTime                                0.006658   \n",
       "Asthma                                   0.044565   \n",
       "KidneyDisease                            0.154268   \n",
       "SkinCancer                               0.037663   \n",
       "Race_American Indian/Alaskan Native      0.026472   \n",
       "Race_Asian                              -0.014785   \n",
       "Race_Black                               0.055365   \n",
       "Race_Hispanic                            0.004056   \n",
       "Race_Other                               0.003906   \n",
       "Race_White                              -0.040584   \n",
       "GenHealth_Excellent                     -0.152718   \n",
       "GenHealth_Fair                           0.179979   \n",
       "GenHealth_Good                           0.082208   \n",
       "GenHealth_Poor                           0.140010   \n",
       "GenHealth_Very good                     -0.119147   \n",
       "Diabetic_No                             -0.886841   \n",
       "Diabetic_No, borderline diabetes        -0.056287   \n",
       "Diabetic_Yes                             1.000000   \n",
       "Diabetic_Yes (during pregnancy)         -0.034347   \n",
       "AgeCategory                              0.211174   \n",
       "\n",
       "                                     Diabetic_Yes (during pregnancy)  \\\n",
       "HeartDisease                                               -0.013930   \n",
       "BMI                                                         0.008037   \n",
       "Smoking                                                    -0.005385   \n",
       "AlcoholDrinking                                            -0.004077   \n",
       "Stroke                                                     -0.004526   \n",
       "PhysicalHealth                                             -0.000773   \n",
       "MentalHealth                                                0.018742   \n",
       "DiffWalking                                                -0.007040   \n",
       "Sex                                                        -0.085477   \n",
       "PhysicalActivity                                            0.001501   \n",
       "SleepTime                                                  -0.011668   \n",
       "Asthma                                                      0.013282   \n",
       "KidneyDisease                                              -0.004706   \n",
       "SkinCancer                                                 -0.010092   \n",
       "Race_American Indian/Alaskan Native                         0.003433   \n",
       "Race_Asian                                                  0.007260   \n",
       "Race_Black                                                 -0.000892   \n",
       "Race_Hispanic                                               0.012703   \n",
       "Race_Other                                                  0.009767   \n",
       "Race_White                                                 -0.015785   \n",
       "GenHealth_Excellent                                        -0.003010   \n",
       "GenHealth_Fair                                              0.000735   \n",
       "GenHealth_Good                                              0.004232   \n",
       "GenHealth_Poor                                             -0.004248   \n",
       "GenHealth_Very good                                        -0.000300   \n",
       "Diabetic_No                                                -0.208279   \n",
       "Diabetic_No, borderline diabetes                           -0.013219   \n",
       "Diabetic_Yes                                               -0.034347   \n",
       "Diabetic_Yes (during pregnancy)                             1.000000   \n",
       "AgeCategory                                                -0.034063   \n",
       "\n",
       "                                     AgeCategory  \n",
       "HeartDisease                            0.233432  \n",
       "BMI                                     0.000879  \n",
       "Smoking                                 0.128331  \n",
       "AlcoholDrinking                        -0.059528  \n",
       "Stroke                                  0.137822  \n",
       "PhysicalHealth                          0.110763  \n",
       "MentalHealth                           -0.155506  \n",
       "DiffWalking                             0.243263  \n",
       "Sex                                    -0.067478  \n",
       "PhysicalActivity                       -0.121687  \n",
       "SleepTime                               0.104953  \n",
       "Asthma                                 -0.058108  \n",
       "KidneyDisease                           0.123190  \n",
       "SkinCancer                              0.263537  \n",
       "Race_American Indian/Alaskan Native    -0.025190  \n",
       "Race_Asian                             -0.083885  \n",
       "Race_Black                             -0.034980  \n",
       "Race_Hispanic                          -0.162338  \n",
       "Race_Other                             -0.061239  \n",
       "Race_White                              0.193823  \n",
       "GenHealth_Excellent                    -0.143473  \n",
       "GenHealth_Fair                          0.101994  \n",
       "GenHealth_Good                          0.059599  \n",
       "GenHealth_Poor                          0.086026  \n",
       "GenHealth_Very good                    -0.034101  \n",
       "Diabetic_No                            -0.204698  \n",
       "Diabetic_No, borderline diabetes        0.048662  \n",
       "Diabetic_Yes                            0.211174  \n",
       "Diabetic_Yes (during pregnancy)        -0.034063  \n",
       "AgeCategory                             1.000000  \n",
       "\n",
       "[30 rows x 30 columns]"
      ]
     },
     "execution_count": 28,
     "metadata": {},
     "output_type": "execute_result"
    }
   ],
   "source": [
    "final.corr()"
   ]
  },
  {
   "cell_type": "code",
   "execution_count": 29,
   "id": "04737756",
   "metadata": {},
   "outputs": [
    {
     "data": {
      "text/plain": [
       "<AxesSubplot:>"
      ]
     },
     "execution_count": 29,
     "metadata": {},
     "output_type": "execute_result"
    },
    {
     "data": {
      "image/png": "[encoded data removed]",
      "text/plain": [
       "<Figure size 1440x864 with 2 Axes>"
      ]
     },
     "metadata": {
      "needs_background": "light"
     },
     "output_type": "display_data"
    }
   ],
   "source": [
    "plt.figure(figsize=(20,12))\n",
    "sns.heatmap(final.corr(),annot=True)"
   ]
  },
  {
   "cell_type": "markdown",
   "id": "4cb928c0",
   "metadata": {},
   "source": [
    "# Graphical presentation of Data"
   ]
  },
  {
   "cell_type": "markdown",
   "id": "3d70633f",
   "metadata": {},
   "source": [
    "# 01. Heard-Disease ammong Male and Female"
   ]
  },
  {
   "cell_type": "code",
   "execution_count": 30,
   "id": "b05e0f6f",
   "metadata": {},
   "outputs": [
    {
     "data": {
      "text/plain": [
       "Text(0.5, 0, '0 = female, 1 = male , and 0 = without heard disease , 1 = with heard disease')"
      ]
     },
     "execution_count": 30,
     "metadata": {},
     "output_type": "execute_result"
    },
    {
     "data": {
      "image/png": "[encoded data removed]",
      "text/plain": [
       "<Figure size 1080x576 with 1 Axes>"
      ]
     },
     "metadata": {
      "needs_background": "light"
     },
     "output_type": "display_data"
    }
   ],
   "source": [
    "plt.figure(figsize=(15,8))\n",
    "sns.countplot(data=final,x='HeartDisease',hue='Sex')\n",
    "plt.title('Heard Disease')\n",
    "plt.xlabel('0 = female, 1 = male , and 0 = without heard disease , 1 = with heard disease')"
   ]
  },
  {
   "cell_type": "markdown",
   "id": "65b9572e",
   "metadata": {},
   "source": [
    "# 02. SkinCancer among male and female"
   ]
  },
  {
   "cell_type": "code",
   "execution_count": 31,
   "id": "ce88b731",
   "metadata": {},
   "outputs": [
    {
     "data": {
      "text/plain": [
       "Text(0.5, 0, '0 = female, 1 = male , and 0 = without SkinCancer , 1 = with Skincancer')"
      ]
     },
     "execution_count": 31,
     "metadata": {},
     "output_type": "execute_result"
    },
    {
     "data": {
      "image/png": "[encoded data removed]",
      "text/plain": [
       "<Figure size 1080x576 with 1 Axes>"
      ]
     },
     "metadata": {
      "needs_background": "light"
     },
     "output_type": "display_data"
    }
   ],
   "source": [
    "plt.figure(figsize=(15,8))\n",
    "sns.countplot(data=final,x='SkinCancer',hue='Sex')\n",
    "plt.title('SkinCancer')\n",
    "plt.xlabel('0 = female, 1 = male , and 0 = without SkinCancer , 1 = with Skincancer')"
   ]
  },
  {
   "cell_type": "markdown",
   "id": "f10885a8",
   "metadata": {},
   "source": [
    "# 03. Heart Disease among different ages"
   ]
  },
  {
   "cell_type": "code",
   "execution_count": 32,
   "id": "e5ded4a9",
   "metadata": {},
   "outputs": [
    {
     "data": {
      "image/png": "[encoded data removed]",
      "text/plain": [
       "<Figure size 360x360 with 1 Axes>"
      ]
     },
     "metadata": {
      "needs_background": "light"
     },
     "output_type": "display_data"
    }
   ],
   "source": [
    "sns.displot(x='AgeCategory',data = final, bins=30 , kde=True);"
   ]
  },
  {
   "cell_type": "markdown",
   "id": "cbd95e12",
   "metadata": {},
   "source": [
    "# Seperating data"
   ]
  },
  {
   "cell_type": "code",
   "execution_count": 33,
   "id": "563260d6",
   "metadata": {},
   "outputs": [],
   "source": [
    "x = final.drop(['HeartDisease'],axis=1)"
   ]
  },
  {
   "cell_type": "code",
   "execution_count": 34,
   "id": "d6893416",
   "metadata": {},
   "outputs": [],
   "source": [
    "y=final['HeartDisease']"
   ]
  },
  {
   "cell_type": "code",
   "execution_count": 35,
   "id": "8cec1a80",
   "metadata": {},
   "outputs": [
    {
     "data": {
      "text/html": [
       "<div>\n",
       "<style scoped>\n",
       "    .dataframe tbody tr th:only-of-type {\n",
       "        vertical-align: middle;\n",
       "    }\n",
       "\n",
       "    .dataframe tbody tr th {\n",
       "        vertical-align: top;\n",
       "    }\n",
       "\n",
       "    .dataframe thead th {\n",
       "        text-align: right;\n",
       "    }\n",
       "</style>\n",
       "<table border=\"1\" class=\"dataframe\">\n",
       "  <thead>\n",
       "    <tr style=\"text-align: right;\">\n",
       "      <th></th>\n",
       "      <th>BMI</th>\n",
       "      <th>Smoking</th>\n",
       "      <th>AlcoholDrinking</th>\n",
       "      <th>Stroke</th>\n",
       "      <th>PhysicalHealth</th>\n",
       "      <th>MentalHealth</th>\n",
       "      <th>DiffWalking</th>\n",
       "      <th>Sex</th>\n",
       "      <th>PhysicalActivity</th>\n",
       "      <th>SleepTime</th>\n",
       "      <th>...</th>\n",
       "      <th>GenHealth_Excellent</th>\n",
       "      <th>GenHealth_Fair</th>\n",
       "      <th>GenHealth_Good</th>\n",
       "      <th>GenHealth_Poor</th>\n",
       "      <th>GenHealth_Very good</th>\n",
       "      <th>Diabetic_No</th>\n",
       "      <th>Diabetic_No, borderline diabetes</th>\n",
       "      <th>Diabetic_Yes</th>\n",
       "      <th>Diabetic_Yes (during pregnancy)</th>\n",
       "      <th>AgeCategory</th>\n",
       "    </tr>\n",
       "  </thead>\n",
       "  <tbody>\n",
       "    <tr>\n",
       "      <th>0</th>\n",
       "      <td>223</td>\n",
       "      <td>1</td>\n",
       "      <td>0</td>\n",
       "      <td>0</td>\n",
       "      <td>3</td>\n",
       "      <td>30</td>\n",
       "      <td>0</td>\n",
       "      <td>0</td>\n",
       "      <td>1</td>\n",
       "      <td>4</td>\n",
       "      <td>...</td>\n",
       "      <td>0</td>\n",
       "      <td>0</td>\n",
       "      <td>0</td>\n",
       "      <td>0</td>\n",
       "      <td>1</td>\n",
       "      <td>0</td>\n",
       "      <td>0</td>\n",
       "      <td>1</td>\n",
       "      <td>0</td>\n",
       "      <td>7</td>\n",
       "    </tr>\n",
       "    <tr>\n",
       "      <th>1</th>\n",
       "      <td>524</td>\n",
       "      <td>0</td>\n",
       "      <td>0</td>\n",
       "      <td>1</td>\n",
       "      <td>0</td>\n",
       "      <td>0</td>\n",
       "      <td>0</td>\n",
       "      <td>0</td>\n",
       "      <td>1</td>\n",
       "      <td>6</td>\n",
       "      <td>...</td>\n",
       "      <td>0</td>\n",
       "      <td>0</td>\n",
       "      <td>0</td>\n",
       "      <td>0</td>\n",
       "      <td>1</td>\n",
       "      <td>1</td>\n",
       "      <td>0</td>\n",
       "      <td>0</td>\n",
       "      <td>0</td>\n",
       "      <td>12</td>\n",
       "    </tr>\n",
       "  </tbody>\n",
       "</table>\n",
       "<p>2 rows × 29 columns</p>\n",
       "</div>"
      ],
      "text/plain": [
       "   BMI  Smoking  AlcoholDrinking  Stroke  PhysicalHealth  MentalHealth  \\\n",
       "0  223        1                0       0               3            30   \n",
       "1  524        0                0       1               0             0   \n",
       "\n",
       "   DiffWalking  Sex  PhysicalActivity  SleepTime  ...  GenHealth_Excellent  \\\n",
       "0            0    0                 1          4  ...                    0   \n",
       "1            0    0                 1          6  ...                    0   \n",
       "\n",
       "   GenHealth_Fair  GenHealth_Good  GenHealth_Poor  GenHealth_Very good  \\\n",
       "0               0               0               0                    1   \n",
       "1               0               0               0                    1   \n",
       "\n",
       "   Diabetic_No  Diabetic_No, borderline diabetes  Diabetic_Yes  \\\n",
       "0            0                                 0             1   \n",
       "1            1                                 0             0   \n",
       "\n",
       "   Diabetic_Yes (during pregnancy)  AgeCategory  \n",
       "0                                0            7  \n",
       "1                                0           12  \n",
       "\n",
       "[2 rows x 29 columns]"
      ]
     },
     "execution_count": 35,
     "metadata": {},
     "output_type": "execute_result"
    }
   ],
   "source": [
    "x.head(2)"
   ]
  },
  {
   "cell_type": "code",
   "execution_count": 36,
   "id": "f84bcc36",
   "metadata": {},
   "outputs": [
    {
     "data": {
      "text/plain": [
       "0    0\n",
       "1    0\n",
       "2    0\n",
       "3    0\n",
       "4    0\n",
       "Name: HeartDisease, dtype: int32"
      ]
     },
     "execution_count": 36,
     "metadata": {},
     "output_type": "execute_result"
    }
   ],
   "source": [
    "y.head()"
   ]
  },
  {
   "cell_type": "code",
   "execution_count": 37,
   "id": "738289f4",
   "metadata": {},
   "outputs": [],
   "source": [
    "x1 = x.copy()\n",
    "x2 = x.copy()"
   ]
  },
  {
   "cell_type": "code",
   "execution_count": 38,
   "id": "00147beb",
   "metadata": {},
   "outputs": [],
   "source": [
    "y1=y.copy()\n",
    "y2=y.copy()"
   ]
  },
  {
   "cell_type": "markdown",
   "id": "033f090a",
   "metadata": {},
   "source": [
    "# Data Analysis before Balancing the data using LogisticRegression Algorithm"
   ]
  },
  {
   "cell_type": "code",
   "execution_count": 39,
   "id": "f81811e7",
   "metadata": {},
   "outputs": [],
   "source": [
    "from sklearn.model_selection import train_test_split\n",
    "xtrain, xtest, ytrain, ytest = train_test_split(x,y, random_state=42, test_size=.30)\n",
    "\n",
    "import statsmodels.api as sm\n",
    "from sklearn.linear_model import LogisticRegression\n",
    "X_train, X_test, y_train, y_test = train_test_split(x, y, test_size=0.2, random_state=42)\n"
   ]
  },
  {
   "cell_type": "code",
   "execution_count": 40,
   "id": "469306ea",
   "metadata": {},
   "outputs": [
    {
     "data": {
      "text/plain": [
       "LogisticRegression()"
      ]
     },
     "execution_count": 40,
     "metadata": {},
     "output_type": "execute_result"
    }
   ],
   "source": [
    "model = LogisticRegression()\n",
    "model.fit(X_train, y_train)"
   ]
  },
  {
   "cell_type": "code",
   "execution_count": 41,
   "id": "4dfbd33b",
   "metadata": {},
   "outputs": [
    {
     "data": {
      "text/plain": [
       "0.9093012711268156"
      ]
     },
     "execution_count": 41,
     "metadata": {},
     "output_type": "execute_result"
    }
   ],
   "source": [
    "model.score(X_test,y_test) # Testing Score of LogisticRegression"
   ]
  },
  {
   "cell_type": "code",
   "execution_count": 42,
   "id": "ad873173",
   "metadata": {},
   "outputs": [
    {
     "data": {
      "text/plain": [
       "0.9123500992823528"
      ]
     },
     "execution_count": 42,
     "metadata": {},
     "output_type": "execute_result"
    }
   ],
   "source": [
    "model.score(X_train,y_train) # Training Score of LogisticRegression"
   ]
  },
  {
   "cell_type": "code",
   "execution_count": 43,
   "id": "210495c9",
   "metadata": {},
   "outputs": [
    {
     "name": "stdout",
     "output_type": "stream",
     "text": [
      "Optimization terminated successfully.\n",
      "         Current function value: 0.225727\n",
      "         Iterations 8\n",
      "                                        Results: Logit\n",
      "===============================================================================================\n",
      "Model:                         Logit                     Pseudo R-squared:          0.225      \n",
      "Dependent Variable:            HeartDisease              AIC:                       115552.3150\n",
      "Date:                          2023-03-11 19:44          BIC:                       115834.5269\n",
      "No. Observations:              255836                    Log-Likelihood:            -57749.    \n",
      "Df Model:                      26                        LL-Null:                   -74484.    \n",
      "Df Residuals:                  255809                    LLR p-value:               0.0000     \n",
      "Converged:                     1.0000                    Scale:                     1.0000     \n",
      "No. Iterations:                8.0000                                                          \n",
      "-----------------------------------------------------------------------------------------------\n",
      "                                     Coef.    Std.Err.     z    P>|z|     [0.025       0.975]  \n",
      "-----------------------------------------------------------------------------------------------\n",
      "BMI                                  0.0001      0.0000  7.8716 0.0000       0.0001      0.0002\n",
      "Smoking                              0.3596      0.0161 22.3523 0.0000       0.3281      0.3912\n",
      "AlcoholDrinking                     -0.2415      0.0378 -6.3884 0.0000      -0.3156     -0.1674\n",
      "Stroke                               1.0304      0.0255 40.4144 0.0000       0.9804      1.0804\n",
      "PhysicalHealth                       0.0032      0.0010  3.3127 0.0009       0.0013      0.0051\n",
      "MentalHealth                         0.0041      0.0010  4.1168 0.0000       0.0021      0.0060\n",
      "DiffWalking                          0.2145      0.0203 10.5557 0.0000       0.1747      0.2543\n",
      "Sex                                  0.7247      0.0164 44.3066 0.0000       0.6926      0.7567\n",
      "PhysicalActivity                     0.0206      0.0180  1.1467 0.2515      -0.0146      0.0559\n",
      "SleepTime                           -0.0274      0.0049 -5.6228 0.0000      -0.0369     -0.0178\n",
      "Asthma                               0.2639      0.0216 12.2292 0.0000       0.2216      0.3062\n",
      "KidneyDisease                        0.5675      0.0273 20.7521 0.0000       0.5139      0.6211\n",
      "SkinCancer                           0.1072      0.0219  4.9007 0.0000       0.0644      0.1501\n",
      "Race_American Indian/Alaskan Native -1.3809 311859.2584 -0.0000 1.0000 -611234.2956 611231.5337\n",
      "Race_Asian                          -1.9011 313559.4590 -0.0000 1.0000 -614567.1477 614563.3455\n",
      "Race_Black                          -1.7457 313187.6960 -0.0000 1.0000 -613838.3502 613834.8588\n",
      "Race_Hispanic                       -1.6325 312263.8311 -0.0000 1.0000 -612027.4951 612024.2301\n",
      "Race_Other                          -1.5025 318745.3419 -0.0000 1.0000 -624730.8928 624727.8878\n",
      "Race_White                          -1.4815 314433.8873 -0.0000 1.0000 -616280.5761 616277.6130\n",
      "GenHealth_Excellent                 -2.5222         nan     nan    nan          nan         nan\n",
      "GenHealth_Fair                      -0.9688         nan     nan    nan          nan         nan\n",
      "GenHealth_Good                      -1.4557         nan     nan    nan          nan         nan\n",
      "GenHealth_Poor                      -0.5786         nan     nan    nan          nan         nan\n",
      "GenHealth_Very good                 -2.0245         nan     nan    nan          nan         nan\n",
      "Diabetic_No                         -2.3219 338081.6146 -0.0000 1.0000 -662630.1103 662625.4665\n",
      "Diabetic_No, borderline diabetes    -2.1851 338081.6146 -0.0000 1.0000 -662629.9735 662625.6033\n",
      "Diabetic_Yes                        -1.8293 338081.6146 -0.0000 1.0000 -662629.6177 662625.9591\n",
      "Diabetic_Yes (during pregnancy)     -2.1656 338081.6146 -0.0000 1.0000 -662629.9539 662625.6228\n",
      "AgeCategory                          0.2711      0.0034 79.1172 0.0000       0.2644      0.2778\n",
      "===============================================================================================\n",
      "\n"
     ]
    }
   ],
   "source": [
    "logit_model=sm.Logit(y_train,X_train) # using statsmodels.api \n",
    "result=logit_model.fit()\n",
    "print(result.summary2())"
   ]
  },
  {
   "cell_type": "markdown",
   "id": "67bd15a4",
   "metadata": {},
   "source": [
    "The logistic regression model predicts the probability of heart disease given several predictors. The model includes 26 predictors, which can be categorized as follows:\n",
    "\n",
    "Demographics: sex and race.\n",
    "Behavioral factors: smoking, alcohol drinking, physical activity, sleep time, and BMI.\n",
    "Health conditions: stroke, asthma, kidney disease, and skin cancer.\n",
    "Health status: physical health, mental health, and general health.\n",
    "Diabetes: diabetic status (no, borderline, yes, or during pregnancy).\n",
    "The coefficients of the model indicate the direction and strength of the relationship between each predictor and the outcome variable (heart disease). The magnitude of each coefficient is relative to the other predictors in the model. The p-value for each coefficient indicates whether the relationship is statistically significant or not.\n",
    "\n",
    "According to the model, the following predictors are positively associated with heart disease: smoking, stroke, sex, asthma, kidney disease, physical health, mental health, and BMI. Conversely, the following predictors are negatively associated with heart disease: alcohol drinking and sleep time.\n",
    "\n",
    "It is worth noting that some predictors have a p-value of 1.0000, which means that their relationship with heart disease is not statistically significant. These predictors are race (all categories) and diabetic status (all categories except for \"no\")."
   ]
  },
  {
   "cell_type": "markdown",
   "id": "0f55219a",
   "metadata": {},
   "source": [
    "# Condition of Data"
   ]
  },
  {
   "cell_type": "code",
   "execution_count": 44,
   "id": "a3376065",
   "metadata": {},
   "outputs": [
    {
     "data": {
      "text/plain": [
       "(319795, 29)"
      ]
     },
     "execution_count": 44,
     "metadata": {},
     "output_type": "execute_result"
    }
   ],
   "source": [
    "x.shape"
   ]
  },
  {
   "cell_type": "code",
   "execution_count": 45,
   "id": "15ec0a7b",
   "metadata": {},
   "outputs": [
    {
     "data": {
      "text/plain": [
       "0    292422\n",
       "1     27373\n",
       "Name: HeartDisease, dtype: int64"
      ]
     },
     "execution_count": 45,
     "metadata": {},
     "output_type": "execute_result"
    }
   ],
   "source": [
    "y.value_counts()"
   ]
  },
  {
   "cell_type": "markdown",
   "id": "1643f643",
   "metadata": {},
   "source": [
    "# Balancing DATA by using RandomOverSampler"
   ]
  },
  {
   "cell_type": "code",
   "execution_count": 46,
   "id": "0ae0b777",
   "metadata": {},
   "outputs": [],
   "source": [
    "from imblearn.over_sampling import RandomOverSampler"
   ]
  },
  {
   "cell_type": "code",
   "execution_count": 47,
   "id": "9ff3e492",
   "metadata": {},
   "outputs": [],
   "source": [
    "Ros = RandomOverSampler()"
   ]
  },
  {
   "cell_type": "code",
   "execution_count": 48,
   "id": "7d5bcdf7",
   "metadata": {},
   "outputs": [],
   "source": [
    "Ros_x,Ros_y = Ros.fit_resample(x,y)"
   ]
  },
  {
   "cell_type": "code",
   "execution_count": 49,
   "id": "4a26681b",
   "metadata": {},
   "outputs": [
    {
     "data": {
      "text/plain": [
       "(584844, 29)"
      ]
     },
     "execution_count": 49,
     "metadata": {},
     "output_type": "execute_result"
    }
   ],
   "source": [
    "Ros_x.shape"
   ]
  },
  {
   "cell_type": "code",
   "execution_count": 50,
   "id": "62437b1c",
   "metadata": {},
   "outputs": [
    {
     "data": {
      "text/plain": [
       "0    292422\n",
       "1    292422\n",
       "Name: HeartDisease, dtype: int64"
      ]
     },
     "execution_count": 50,
     "metadata": {},
     "output_type": "execute_result"
    }
   ],
   "source": [
    "Ros_y.value_counts()"
   ]
  },
  {
   "cell_type": "markdown",
   "id": "7d94f0a6",
   "metadata": {},
   "source": [
    "# Cross Validation by Hold_out Algorithm"
   ]
  },
  {
   "cell_type": "markdown",
   "id": "f06d542c",
   "metadata": {},
   "source": [
    "# 01. DecissinTreeClassifier with resampling"
   ]
  },
  {
   "cell_type": "code",
   "execution_count": 51,
   "id": "6fb6ec77",
   "metadata": {},
   "outputs": [],
   "source": [
    "from sklearn.tree import DecisionTreeClassifier "
   ]
  },
  {
   "cell_type": "code",
   "execution_count": 52,
   "id": "3570a219",
   "metadata": {},
   "outputs": [],
   "source": [
    "x1_train,x1_test,y1_train,y1_test = train_test_split(Ros_x,Ros_y , random_state=42,test_size=.25)"
   ]
  },
  {
   "cell_type": "code",
   "execution_count": 53,
   "id": "0c42cb14",
   "metadata": {},
   "outputs": [],
   "source": [
    "dtc = DecisionTreeClassifier()"
   ]
  },
  {
   "cell_type": "code",
   "execution_count": 54,
   "id": "d7f2d51f",
   "metadata": {},
   "outputs": [
    {
     "data": {
      "text/plain": [
       "DecisionTreeClassifier()"
      ]
     },
     "execution_count": 54,
     "metadata": {},
     "output_type": "execute_result"
    }
   ],
   "source": [
    "dtc.fit(x1_train,y1_train)"
   ]
  },
  {
   "cell_type": "code",
   "execution_count": 55,
   "id": "a56a9256",
   "metadata": {},
   "outputs": [
    {
     "data": {
      "text/plain": [
       "0.9531567392330262"
      ]
     },
     "execution_count": 55,
     "metadata": {},
     "output_type": "execute_result"
    }
   ],
   "source": [
    "dtc.score(x1_test,y1_test) #testing Score"
   ]
  },
  {
   "cell_type": "code",
   "execution_count": 56,
   "id": "3f2765ab",
   "metadata": {},
   "outputs": [
    {
     "data": {
      "text/plain": [
       "0.9966144818105341"
      ]
     },
     "execution_count": 56,
     "metadata": {},
     "output_type": "execute_result"
    }
   ],
   "source": [
    "dtc.score(x1_train,y1_train) # Training Score"
   ]
  },
  {
   "cell_type": "markdown",
   "id": "626735bd",
   "metadata": {},
   "source": [
    "# without resampling"
   ]
  },
  {
   "cell_type": "code",
   "execution_count": 57,
   "id": "16eff7c7",
   "metadata": {},
   "outputs": [
    {
     "data": {
      "text/plain": [
       "DecisionTreeClassifier()"
      ]
     },
     "execution_count": 57,
     "metadata": {},
     "output_type": "execute_result"
    }
   ],
   "source": [
    "dtc.fit(xtrain,ytrain)"
   ]
  },
  {
   "cell_type": "code",
   "execution_count": 58,
   "id": "0b64a68d",
   "metadata": {},
   "outputs": [
    {
     "data": {
      "text/plain": [
       "0.8632464378407113"
      ]
     },
     "execution_count": 58,
     "metadata": {},
     "output_type": "execute_result"
    }
   ],
   "source": [
    "dtc.score(xtest,ytest) # testing Score"
   ]
  },
  {
   "cell_type": "code",
   "execution_count": 59,
   "id": "39495129",
   "metadata": {},
   "outputs": [
    {
     "data": {
      "text/plain": [
       "0.9971365520691874"
      ]
     },
     "execution_count": 59,
     "metadata": {},
     "output_type": "execute_result"
    }
   ],
   "source": [
    "dtc.score(xtrain,ytrain) # Training Score"
   ]
  },
  {
   "cell_type": "markdown",
   "id": "d0abecd1",
   "metadata": {},
   "source": [
    "# 02. XGBoost Algorithm With resampling"
   ]
  },
  {
   "cell_type": "code",
   "execution_count": 60,
   "id": "4db65410",
   "metadata": {},
   "outputs": [],
   "source": [
    "import xgboost\n",
    "from xgboost import XGBClassifier"
   ]
  },
  {
   "cell_type": "code",
   "execution_count": 61,
   "id": "d548dd04",
   "metadata": {},
   "outputs": [],
   "source": [
    "xb = XGBClassifier()"
   ]
  },
  {
   "cell_type": "code",
   "execution_count": 62,
   "id": "8a5816ea",
   "metadata": {},
   "outputs": [],
   "source": [
    "xb.fit(x1_train,y1_train);"
   ]
  },
  {
   "cell_type": "code",
   "execution_count": 63,
   "id": "74fa5529",
   "metadata": {},
   "outputs": [
    {
     "data": {
      "text/plain": [
       "0.785173482159345"
      ]
     },
     "execution_count": 63,
     "metadata": {},
     "output_type": "execute_result"
    }
   ],
   "source": [
    "xb.score(x1_test,y1_test) # Testin Score"
   ]
  },
  {
   "cell_type": "code",
   "execution_count": 64,
   "id": "c2435f6e",
   "metadata": {},
   "outputs": [
    {
     "data": {
      "text/plain": [
       "0.7895621168493935"
      ]
     },
     "execution_count": 64,
     "metadata": {},
     "output_type": "execute_result"
    }
   ],
   "source": [
    "xb.score(x1_train,y1_train) # Training Score"
   ]
  },
  {
   "cell_type": "markdown",
   "id": "24e6353b",
   "metadata": {},
   "source": [
    "# Without resampling"
   ]
  },
  {
   "cell_type": "code",
   "execution_count": 65,
   "id": "48b90cf1",
   "metadata": {},
   "outputs": [],
   "source": [
    "xb.fit(xtrain,ytrain);"
   ]
  },
  {
   "cell_type": "code",
   "execution_count": 66,
   "id": "8f356fdb",
   "metadata": {},
   "outputs": [
    {
     "data": {
      "text/plain": [
       "0.9141954783768853"
      ]
     },
     "execution_count": 66,
     "metadata": {},
     "output_type": "execute_result"
    }
   ],
   "source": [
    "xb.score(xtest,ytest) # Testing Score"
   ]
  },
  {
   "cell_type": "code",
   "execution_count": 67,
   "id": "435ead0c",
   "metadata": {},
   "outputs": [
    {
     "data": {
      "text/plain": [
       "0.9224724823100565"
      ]
     },
     "execution_count": 67,
     "metadata": {},
     "output_type": "execute_result"
    }
   ],
   "source": [
    "xb.score(xtrain,ytrain) # Training Score"
   ]
  },
  {
   "cell_type": "markdown",
   "id": "cade0469",
   "metadata": {},
   "source": [
    "# 03 . Ada Bost With resampling"
   ]
  },
  {
   "cell_type": "code",
   "execution_count": 68,
   "id": "22be602d",
   "metadata": {},
   "outputs": [],
   "source": [
    "from sklearn.ensemble import AdaBoostClassifier"
   ]
  },
  {
   "cell_type": "code",
   "execution_count": 69,
   "id": "c18e7921",
   "metadata": {},
   "outputs": [],
   "source": [
    "ada = AdaBoostClassifier()"
   ]
  },
  {
   "cell_type": "code",
   "execution_count": 70,
   "id": "2ce35751",
   "metadata": {},
   "outputs": [],
   "source": [
    "ada.fit(x1_train,y1_train);"
   ]
  },
  {
   "cell_type": "code",
   "execution_count": 71,
   "id": "7202973c",
   "metadata": {},
   "outputs": [
    {
     "data": {
      "text/plain": [
       "0.7631847125045311"
      ]
     },
     "execution_count": 71,
     "metadata": {},
     "output_type": "execute_result"
    }
   ],
   "source": [
    "ada.score(x1_test,y1_test) # Testing Score"
   ]
  },
  {
   "cell_type": "code",
   "execution_count": 72,
   "id": "847e4266",
   "metadata": {},
   "outputs": [
    {
     "data": {
      "text/plain": [
       "0.7624050174063511"
      ]
     },
     "execution_count": 72,
     "metadata": {},
     "output_type": "execute_result"
    }
   ],
   "source": [
    "ada.score(x1_train,y1_train) # Training Score"
   ]
  },
  {
   "cell_type": "markdown",
   "id": "d013496d",
   "metadata": {},
   "source": [
    "# Without Resampling"
   ]
  },
  {
   "cell_type": "code",
   "execution_count": 73,
   "id": "9613df50",
   "metadata": {},
   "outputs": [
    {
     "data": {
      "text/plain": [
       "AdaBoostClassifier()"
      ]
     },
     "execution_count": 73,
     "metadata": {},
     "output_type": "execute_result"
    }
   ],
   "source": [
    "ada.fit(xtrain,ytrain)"
   ]
  },
  {
   "cell_type": "code",
   "execution_count": 74,
   "id": "57ee51bc",
   "metadata": {},
   "outputs": [
    {
     "data": {
      "text/plain": [
       "0.9163033378600529"
      ]
     },
     "execution_count": 74,
     "metadata": {},
     "output_type": "execute_result"
    }
   ],
   "source": [
    "ada.score(xtrain,ytrain) # Training Score"
   ]
  },
  {
   "cell_type": "code",
   "execution_count": 75,
   "id": "500eee8e",
   "metadata": {},
   "outputs": [
    {
     "data": {
      "text/plain": [
       "0.913903626262521"
      ]
     },
     "execution_count": 75,
     "metadata": {},
     "output_type": "execute_result"
    }
   ],
   "source": [
    "ada.score(xtest,ytest)"
   ]
  },
  {
   "cell_type": "markdown",
   "id": "4acfbfe8",
   "metadata": {},
   "source": [
    "# 04 . Randomforrest with resampling"
   ]
  },
  {
   "cell_type": "code",
   "execution_count": 76,
   "id": "01287d33",
   "metadata": {},
   "outputs": [],
   "source": [
    "from sklearn.ensemble import RandomForestClassifier"
   ]
  },
  {
   "cell_type": "code",
   "execution_count": 77,
   "id": "ccf738d5",
   "metadata": {},
   "outputs": [],
   "source": [
    "rnc = RandomForestClassifier()"
   ]
  },
  {
   "cell_type": "code",
   "execution_count": 78,
   "id": "4f3adcba",
   "metadata": {},
   "outputs": [
    {
     "data": {
      "text/plain": [
       "RandomForestClassifier()"
      ]
     },
     "execution_count": 78,
     "metadata": {},
     "output_type": "execute_result"
    }
   ],
   "source": [
    "rnc.fit(x1_train,y1_train)"
   ]
  },
  {
   "cell_type": "code",
   "execution_count": 79,
   "id": "956501f0",
   "metadata": {},
   "outputs": [
    {
     "data": {
      "text/plain": [
       "0.9966076423798483"
      ]
     },
     "execution_count": 79,
     "metadata": {},
     "output_type": "execute_result"
    }
   ],
   "source": [
    "rnc.score(x1_train,y1_train) # Training Score"
   ]
  },
  {
   "cell_type": "code",
   "execution_count": 80,
   "id": "518cad1e",
   "metadata": {},
   "outputs": [
    {
     "data": {
      "text/plain": [
       "0.9658233648631088"
      ]
     },
     "execution_count": 80,
     "metadata": {},
     "output_type": "execute_result"
    }
   ],
   "source": [
    "rnc.score(x1_test,y1_test) # Testing Score"
   ]
  },
  {
   "cell_type": "markdown",
   "id": "ae035a66",
   "metadata": {},
   "source": [
    "# Without resampling"
   ]
  },
  {
   "cell_type": "code",
   "execution_count": 81,
   "id": "2c60a1d6",
   "metadata": {},
   "outputs": [
    {
     "data": {
      "text/plain": [
       "RandomForestClassifier()"
      ]
     },
     "execution_count": 81,
     "metadata": {},
     "output_type": "execute_result"
    }
   ],
   "source": [
    "rnc.fit(xtrain,ytrain)"
   ]
  },
  {
   "cell_type": "code",
   "execution_count": 82,
   "id": "98615081",
   "metadata": {},
   "outputs": [
    {
     "data": {
      "text/plain": [
       "0.9970695447073118"
      ]
     },
     "execution_count": 82,
     "metadata": {},
     "output_type": "execute_result"
    }
   ],
   "source": [
    "rnc.score(xtrain,ytrain) # Training Score"
   ]
  },
  {
   "cell_type": "code",
   "execution_count": 83,
   "id": "e555bc05",
   "metadata": {},
   "outputs": [
    {
     "data": {
      "text/plain": [
       "0.9046060517620571"
      ]
     },
     "execution_count": 83,
     "metadata": {},
     "output_type": "execute_result"
    }
   ],
   "source": [
    "rnc.score(xtest,ytest) # Testing Score"
   ]
  },
  {
   "cell_type": "markdown",
   "id": "b18cd811",
   "metadata": {},
   "source": [
    "# KFold CrossVAlidation"
   ]
  },
  {
   "cell_type": "code",
   "execution_count": 84,
   "id": "4e3e9b35",
   "metadata": {},
   "outputs": [],
   "source": [
    "from sklearn.model_selection import KFold,cross_val_score,cross_validate"
   ]
  },
  {
   "cell_type": "code",
   "execution_count": 85,
   "id": "a80317e4",
   "metadata": {},
   "outputs": [],
   "source": [
    "kfold = KFold(n_splits=4,shuffle=True)"
   ]
  },
  {
   "cell_type": "code",
   "execution_count": 86,
   "id": "cbbe816f",
   "metadata": {},
   "outputs": [],
   "source": [
    "result = cross_val_score(xb,x1_train,y1_train,cv=kfold) # using XGBOOsT Algorithm"
   ]
  },
  {
   "cell_type": "code",
   "execution_count": 87,
   "id": "24cc0a82",
   "metadata": {},
   "outputs": [
    {
     "data": {
      "text/plain": [
       "0.7851096480829"
      ]
     },
     "execution_count": 87,
     "metadata": {},
     "output_type": "execute_result"
    }
   ],
   "source": [
    "result.mean()"
   ]
  },
  {
   "cell_type": "markdown",
   "id": "44fafdde",
   "metadata": {},
   "source": [
    "# Stratified cross validation"
   ]
  },
  {
   "cell_type": "code",
   "execution_count": 88,
   "id": "821cf3ee",
   "metadata": {},
   "outputs": [],
   "source": [
    "from sklearn.model_selection import StratifiedKFold"
   ]
  },
  {
   "cell_type": "code",
   "execution_count": 89,
   "id": "548dd995",
   "metadata": {},
   "outputs": [],
   "source": [
    "stk = StratifiedKFold(n_splits=4,shuffle=True)"
   ]
  },
  {
   "cell_type": "code",
   "execution_count": 90,
   "id": "900b487f",
   "metadata": {},
   "outputs": [],
   "source": [
    "result2 = cross_val_score(xb,x1_train,y1_train,cv=stk) # using xb algorithm"
   ]
  },
  {
   "cell_type": "code",
   "execution_count": 91,
   "id": "2fbbffa2",
   "metadata": {},
   "outputs": [
    {
     "data": {
      "text/plain": [
       "0.7851370023752864"
      ]
     },
     "execution_count": 91,
     "metadata": {},
     "output_type": "execute_result"
    }
   ],
   "source": [
    "result2.mean()"
   ]
  },
  {
   "cell_type": "markdown",
   "id": "4a0c549e",
   "metadata": {},
   "source": [
    "# Data Analysis After Balancing the data"
   ]
  },
  {
   "cell_type": "code",
   "execution_count": 92,
   "id": "4ea64fba",
   "metadata": {},
   "outputs": [
    {
     "name": "stdout",
     "output_type": "stream",
     "text": [
      "Optimization terminated successfully.\n",
      "         Current function value: 0.493207\n",
      "         Iterations 6\n",
      "                                         Results: Logit\n",
      "================================================================================================\n",
      "Model:                        Logit                      Pseudo R-squared:           0.288      \n",
      "Dependent Variable:           HeartDisease               AIC:                        432727.9266\n",
      "Date:                         2023-03-11 20:00           BIC:                        433024.6949\n",
      "No. Observations:             438633                     Log-Likelihood:             -2.1634e+05\n",
      "Df Model:                     26                         LL-Null:                    -3.0404e+05\n",
      "Df Residuals:                 438606                     LLR p-value:                0.0000     \n",
      "Converged:                    1.0000                     Scale:                      1.0000     \n",
      "No. Iterations:               6.0000                                                            \n",
      "------------------------------------------------------------------------------------------------\n",
      "                                     Coef.    Std.Err.     z     P>|z|     [0.025       0.975]  \n",
      "------------------------------------------------------------------------------------------------\n",
      "BMI                                  0.0001      0.0000  14.3191 0.0000       0.0001      0.0001\n",
      "Smoking                              0.3854      0.0077  50.2286 0.0000       0.3703      0.4004\n",
      "AlcoholDrinking                     -0.2190      0.0166 -13.1864 0.0000      -0.2515     -0.1864\n",
      "Stroke                               1.2254      0.0163  75.1145 0.0000       1.1934      1.2574\n",
      "PhysicalHealth                       0.0058      0.0005  11.1001 0.0000       0.0047      0.0068\n",
      "MentalHealth                         0.0070      0.0005  14.0132 0.0000       0.0061      0.0080\n",
      "DiffWalking                          0.2521      0.0106  23.6866 0.0000       0.2312      0.2729\n",
      "Sex                                  0.7469      0.0078  95.3419 0.0000       0.7315      0.7622\n",
      "PhysicalActivity                     0.0179      0.0090   1.9959 0.0459       0.0003      0.0355\n",
      "SleepTime                           -0.0270      0.0024 -11.0545 0.0000      -0.0318     -0.0222\n",
      "Asthma                               0.3222      0.0109  29.6253 0.0000       0.3009      0.3435\n",
      "KidneyDisease                        0.6000      0.0164  36.5045 0.0000       0.5677      0.6322\n",
      "SkinCancer                           0.1186      0.0113  10.4619 0.0000       0.0964      0.1408\n",
      "Race_American Indian/Alaskan Native -0.6040         nan      nan    nan          nan         nan\n",
      "Race_Asian                          -1.0398         nan      nan    nan          nan         nan\n",
      "Race_Black                          -0.8954         nan      nan    nan          nan         nan\n",
      "Race_Hispanic                       -0.7669         nan      nan    nan          nan         nan\n",
      "Race_Other                          -0.6290         nan      nan    nan          nan         nan\n",
      "Race_White                          -0.6900         nan      nan    nan          nan         nan\n",
      "GenHealth_Excellent                 -2.0413 164267.1337  -0.0000 1.0000 -321959.7073 321955.6246\n",
      "GenHealth_Fair                      -0.4979 164508.6130  -0.0000 1.0000 -322431.4545 322430.4588\n",
      "GenHealth_Good                      -0.9921 164416.9397  -0.0000 1.0000 -322252.2724 322250.2882\n",
      "GenHealth_Poor                      -0.1448 164432.9093  -0.0000 1.0000 -322282.7249 322282.4353\n",
      "GenHealth_Very good                 -1.5858 164349.6911  -0.0000 1.0000 -322121.0613 322117.8896\n",
      "Diabetic_No                         -1.4385 109750.0968  -0.0000 1.0000 -215107.6755 215104.7985\n",
      "Diabetic_No, borderline diabetes    -1.3049 109750.0968  -0.0000 1.0000 -215107.5419 215104.9321\n",
      "Diabetic_Yes                        -0.9354 109750.0968  -0.0000 1.0000 -215107.1725 215105.3016\n",
      "Diabetic_Yes (during pregnancy)     -1.2937 109750.0968  -0.0000 1.0000 -215107.5307 215104.9433\n",
      "AgeCategory                          0.2901      0.0015 192.1161 0.0000       0.2872      0.2931\n",
      "================================================================================================\n",
      "\n"
     ]
    }
   ],
   "source": [
    "logit_model=sm.Logit(y1_train,x1_train) # using statsmodels.api \n",
    "result=logit_model.fit()\n",
    "print(result.summary2())"
   ]
  },
  {
   "cell_type": "markdown",
   "id": "9a54384a",
   "metadata": {},
   "source": [
    "This is a logistic regression model that predicts the probability of having heart disease based on several independent variables. The model is fitted to a dataset with 438,633 observations, and there are 26 predictor variables included in the model.\n",
    "\n",
    "The model provides the following information:\n",
    "\n",
    "The current function value is 0.492357, which suggests that the model fits the data reasonably well.\n",
    "The model converged after 6 iterations, which means that the optimization algorithm found the optimal parameter values.\n",
    "The Pseudo R-squared value is 0.290, which indicates that the model explains 29% of the variance in the dependent variable (heart disease).\n",
    "The AIC (Akaike Information Criterion) value is 431981.8229, which is a measure of the model's goodness of fit. Lower AIC values indicate a better fit.\n",
    "The BIC (Bayesian Information Criterion) value is 432278.5912, which penalizes the model for having more parameters. The BIC value can be used to compare different models, with lower values indicating a better tradeoff between goodness of fit and parsimony.\n",
    "The coefficients, standard errors, z-scores, and p-values for each predictor variable are also provided. The coefficients indicate the direction and strength of the relationship between each predictor variable and the log-odds of having heart disease. The z-scores and p-values indicate the significance of the coefficients. A p-value less than 0.05 is typically considered statistically significant.\n",
    "Some predictor variables have missing standard error values (nan) and no confidence intervals. This can occur when there is perfect collinearity between predictor variables or when a variable has zero variance. In this case, the predictor variables with missing values are categorical variables with multiple levels (e.g., race and diabetic status).\n",
    "Overall, the model suggests that smoking, stroke, asthma, kidney disease, and sleep time are positively associated with the probability of having heart disease, while alcohol drinking, physical health, mental health, diff walking, sex, and age category are negatively associated with the probability of having heart disease. However, it is important to note that correlation does not imply causation, and further analysis would be necessary to establish causal relationships."
   ]
  },
  {
   "cell_type": "markdown",
   "id": "91c18229",
   "metadata": {},
   "source": [
    "# Beast Algorithm for this data-set is RandomForestClassifier."
   ]
  },
  {
   "cell_type": "markdown",
   "id": "a071bd38",
   "metadata": {},
   "source": [
    "# Saving RandomForestClassifier Model"
   ]
  },
  {
   "cell_type": "code",
   "execution_count": 93,
   "id": "6c76aaa6",
   "metadata": {},
   "outputs": [],
   "source": [
    "import pickle as pk"
   ]
  },
  {
   "cell_type": "code",
   "execution_count": 94,
   "id": "ffeded72",
   "metadata": {},
   "outputs": [],
   "source": [
    "with open('model.pkl','wb') as file:\n",
    "    pk.dump(rnc,file)"
   ]
  },
  {
   "cell_type": "code",
   "execution_count": null,
   "id": "6a3ebda3",
   "metadata": {},
   "outputs": [],
   "source": []
  }
 ],
 "metadata": {
  "kernelspec": {
   "display_name": "Python 3 (ipykernel)",
   "language": "python",
   "name": "python3"
  },
  "language_info": {
   "codemirror_mode": {
    "name": "ipython",
    "version": 3
   },
   "file_extension": ".py",
   "mimetype": "text/x-python",
   "name": "python",
   "nbconvert_exporter": "python",
   "pygments_lexer": "ipython3",
   "version": "3.9.7"
  }
 },
 "nbformat": 4,
 "nbformat_minor": 5
}
